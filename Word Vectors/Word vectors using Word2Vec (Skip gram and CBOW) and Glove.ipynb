{
 "cells": [
  {
   "cell_type": "code",
   "execution_count": 1,
   "metadata": {
    "scrolled": true
   },
   "outputs": [],
   "source": [
    "import nltk\n",
    "from gensim.models import word2vec\n",
    "from gensim.models.word2vec import Word2Vec"
   ]
  },
  {
   "cell_type": "code",
   "execution_count": 2,
   "metadata": {},
   "outputs": [],
   "source": [
    "import numpy as np\n",
    "import matplotlib.pyplot as plt\n",
    "import os"
   ]
  },
  {
   "cell_type": "markdown",
   "metadata": {},
   "source": [
    "### Creating our sentences to train the word vectors"
   ]
  },
  {
   "cell_type": "code",
   "execution_count": 3,
   "metadata": {},
   "outputs": [],
   "source": [
    "TextCorpus  = [\"My name is Tavish Aggarwal\",\n",
    "               \"Tavish loves to code and solve business problems\",\n",
    "               \"Tavish is certified Data Scientist\",\n",
    "               \"Delhi is capital of India\",\n",
    "               \"I like ML\"\n",
    "]"
   ]
  },
  {
   "cell_type": "code",
   "execution_count": 4,
   "metadata": {},
   "outputs": [
    {
     "data": {
      "text/plain": [
       "[['My', 'name', 'is', 'Tavish', 'Aggarwal'],\n",
       " ['Tavish', 'loves', 'to', 'code', 'and', 'solve', 'business', 'problems']]"
      ]
     },
     "execution_count": 4,
     "metadata": {},
     "output_type": "execute_result"
    }
   ],
   "source": [
    "text_tokens = [sent.split() for sent in TextCorpus]\n",
    "text_tokens[:2]"
   ]
  },
  {
   "cell_type": "code",
   "execution_count": 5,
   "metadata": {},
   "outputs": [
    {
     "data": {
      "text/plain": [
       "5"
      ]
     },
     "execution_count": 5,
     "metadata": {},
     "output_type": "execute_result"
    }
   ],
   "source": [
    "len(text_tokens)"
   ]
  },
  {
   "cell_type": "markdown",
   "metadata": {},
   "source": [
    "#### Training the word vectors"
   ]
  },
  {
   "cell_type": "code",
   "execution_count": 6,
   "metadata": {},
   "outputs": [],
   "source": [
    "model = Word2Vec(text_tokens,min_count=1)"
   ]
  },
  {
   "cell_type": "code",
   "execution_count": 7,
   "metadata": {},
   "outputs": [
    {
     "data": {
      "text/plain": [
       "array([-8.6159334e-03,  3.6684750e-03,  5.1916875e-03,  5.7404637e-03,\n",
       "        7.4722725e-03, -6.1685978e-03,  1.1102012e-03,  6.0494938e-03,\n",
       "       -2.8375327e-03, -6.1778747e-03, -4.0631485e-04, -8.3742868e-03,\n",
       "       -5.6009474e-03,  7.1013989e-03,  3.3513810e-03,  7.2295908e-03,\n",
       "        6.8029012e-03,  7.5292704e-03, -3.7888384e-03, -5.6452921e-04,\n",
       "        2.3526677e-03, -4.5151808e-03,  8.3901128e-03, -9.8614600e-03,\n",
       "        6.7620296e-03,  2.9173973e-03, -4.9325339e-03,  4.3959673e-03,\n",
       "       -1.7365239e-03,  6.7089540e-03,  9.9623948e-03, -4.3642549e-03,\n",
       "       -5.9910998e-04, -5.6981831e-03,  3.8485418e-03,  2.7836687e-03,\n",
       "        6.8947002e-03,  6.1052041e-03,  9.5385844e-03,  9.2737013e-03,\n",
       "        7.9011442e-03, -6.9900323e-03, -9.1531435e-03, -3.5373366e-04,\n",
       "       -3.0971467e-03,  7.8968396e-03,  5.9356922e-03, -1.5461481e-03,\n",
       "        1.5123204e-03,  1.7918724e-03,  7.8177284e-03, -9.5091388e-03,\n",
       "       -2.0328154e-04,  3.4642862e-03, -9.3945616e-04,  8.3797695e-03,\n",
       "        9.0131862e-03,  6.5384703e-03, -7.1075023e-04,  7.7110971e-03,\n",
       "       -8.5376939e-03,  3.2046190e-03, -4.6348395e-03, -5.0851763e-03,\n",
       "        3.5889479e-03,  5.3744498e-03,  7.7669085e-03, -5.7656420e-03,\n",
       "        7.4319066e-03,  6.6245855e-03, -3.7117526e-03, -8.7481104e-03,\n",
       "        5.4419483e-03,  6.5103597e-03, -7.8968087e-04, -6.7153447e-03,\n",
       "       -7.0820479e-03, -2.4983981e-03,  5.1426361e-03, -3.6655392e-03,\n",
       "       -9.3738111e-03,  3.8258624e-03,  4.8849676e-03, -6.4321426e-03,\n",
       "        1.2117822e-03, -2.0742621e-03,  2.7444623e-05, -9.8819975e-03,\n",
       "        2.6902338e-03, -4.7534918e-03,  1.0907892e-03, -1.5759525e-03,\n",
       "        2.1997213e-03, -7.8771915e-03, -2.7148554e-03,  2.6625232e-03,\n",
       "        5.3459215e-03, -2.3881076e-03, -9.5117548e-03,  4.5082523e-03],\n",
       "      dtype=float32)"
      ]
     },
     "execution_count": 7,
     "metadata": {},
     "output_type": "execute_result"
    }
   ],
   "source": [
    "model.wv['Tavish']"
   ]
  },
  {
   "cell_type": "code",
   "execution_count": 8,
   "metadata": {},
   "outputs": [
    {
     "data": {
      "text/plain": [
       "100"
      ]
     },
     "execution_count": 8,
     "metadata": {},
     "output_type": "execute_result"
    }
   ],
   "source": [
    "len(model.wv['Tavish'])"
   ]
  },
  {
   "cell_type": "markdown",
   "metadata": {},
   "source": [
    "Similarity between word vectors is measures using Cosine similarity"
   ]
  },
  {
   "cell_type": "code",
   "execution_count": 9,
   "metadata": {},
   "outputs": [
    {
     "data": {
      "text/plain": [
       "[('Data', 0.16114583611488342),\n",
       " ('of', 0.1593799591064453),\n",
       " ('certified', 0.13733167946338654),\n",
       " ('Scientist', 0.12301019579172134),\n",
       " ('capital', 0.08560184389352798)]"
      ]
     },
     "execution_count": 9,
     "metadata": {},
     "output_type": "execute_result"
    }
   ],
   "source": [
    "model.wv.most_similar(\"Tavish\",topn=5)"
   ]
  },
  {
   "cell_type": "markdown",
   "metadata": {},
   "source": [
    "### Training our word vectors on the text8 corpus\n",
    "Cleaned Wikipedia text, compressed to 100MB"
   ]
  },
  {
   "cell_type": "markdown",
   "metadata": {},
   "source": [
    "#### Importing the raw text file\n",
    "- You can download text8 file from http://mattmahoney.net/dc/text8.zip.\n",
    "- Thereafter unzip the file and provide the file along with the path below"
   ]
  },
  {
   "cell_type": "code",
   "execution_count": 10,
   "metadata": {},
   "outputs": [],
   "source": [
    "sentences = word2vec.Text8Corpus('text8')"
   ]
  },
  {
   "cell_type": "code",
   "execution_count": 11,
   "metadata": {},
   "outputs": [
    {
     "data": {
      "text/plain": [
       "gensim.models.word2vec.Text8Corpus"
      ]
     },
     "execution_count": 11,
     "metadata": {},
     "output_type": "execute_result"
    }
   ],
   "source": [
    "type(sentences)"
   ]
  },
  {
   "cell_type": "markdown",
   "metadata": {},
   "source": [
    "#### Using all default parameters"
   ]
  },
  {
   "cell_type": "code",
   "execution_count": 12,
   "metadata": {
    "scrolled": true
   },
   "outputs": [],
   "source": [
    "model = Word2Vec(sentences)"
   ]
  },
  {
   "cell_type": "code",
   "execution_count": 13,
   "metadata": {},
   "outputs": [
    {
     "data": {
      "text/plain": [
       "[('goodness', 0.7888688445091248),\n",
       " ('humanity', 0.7657265067100525),\n",
       " ('pleasure', 0.7511183023452759),\n",
       " ('dignity', 0.7453784346580505),\n",
       " ('desires', 0.739674985408783),\n",
       " ('compassion', 0.7299214005470276),\n",
       " ('intellect', 0.7090578079223633),\n",
       " ('perfection', 0.7084797024726868),\n",
       " ('mankind', 0.703934907913208),\n",
       " ('conscious', 0.701149582862854)]"
      ]
     },
     "execution_count": 13,
     "metadata": {},
     "output_type": "execute_result"
    }
   ],
   "source": [
    "model.wv.most_similar(\"happiness\")"
   ]
  },
  {
   "cell_type": "code",
   "execution_count": 14,
   "metadata": {
    "scrolled": true
   },
   "outputs": [
    {
     "data": {
      "text/plain": [
       "[('elizabeth', 0.7644138932228088),\n",
       " ('princess', 0.7624356150627136),\n",
       " ('prince', 0.7387746572494507),\n",
       " ('king', 0.7162989974021912),\n",
       " ('consort', 0.6918057799339294),\n",
       " ('victoria', 0.6500244140625),\n",
       " ('crown', 0.6483307480812073),\n",
       " ('aragon', 0.6454878449440002),\n",
       " ('mary', 0.6454456448554993),\n",
       " ('duchess', 0.6320202350616455)]"
      ]
     },
     "execution_count": 14,
     "metadata": {},
     "output_type": "execute_result"
    }
   ],
   "source": [
    "model.wv.most_similar(\"queen\")"
   ]
  },
  {
   "cell_type": "markdown",
   "metadata": {},
   "source": [
    "#### Semantic regularities are captured in word embeddings\n",
    "This is one of the amazing feature of word embeddings"
   ]
  },
  {
   "cell_type": "code",
   "execution_count": 15,
   "metadata": {},
   "outputs": [
    {
     "data": {
      "text/plain": [
       "[('queen', 0.6625612378120422),\n",
       " ('prince', 0.6157901883125305),\n",
       " ('son', 0.6157302260398865),\n",
       " ('empress', 0.6059912443161011),\n",
       " ('throne', 0.5979928970336914)]"
      ]
     },
     "execution_count": 15,
     "metadata": {},
     "output_type": "execute_result"
    }
   ],
   "source": [
    "# woman + king - man = queen\n",
    "model.wv.most_similar(positive=['woman', 'king'], negative=['man'], topn=5)"
   ]
  },
  {
   "cell_type": "code",
   "execution_count": 16,
   "metadata": {},
   "outputs": [
    {
     "data": {
      "text/plain": [
       "[('heroine', 0.6626411080360413),\n",
       " ('protagonist', 0.6155477166175842),\n",
       " ('idol', 0.6149144768714905),\n",
       " ('gladiator', 0.6101319193840027),\n",
       " ('magician', 0.6002493500709534)]"
      ]
     },
     "execution_count": 16,
     "metadata": {},
     "output_type": "execute_result"
    }
   ],
   "source": [
    "# woman + hero - man = heroine\n",
    "model.wv.most_similar(positive=['woman', 'hero'], negative=['man'], topn=5)"
   ]
  },
  {
   "cell_type": "markdown",
   "metadata": {},
   "source": [
    "### Visualizing these word vectors"
   ]
  },
  {
   "cell_type": "code",
   "execution_count": 17,
   "metadata": {},
   "outputs": [],
   "source": [
    "X = model.wv[model.wv.index_to_key]"
   ]
  },
  {
   "cell_type": "markdown",
   "metadata": {},
   "source": [
    "##### We'll use PCA to reduce and visualize in 2 dimensions"
   ]
  },
  {
   "cell_type": "code",
   "execution_count": 18,
   "metadata": {},
   "outputs": [],
   "source": [
    "from sklearn.decomposition import PCA"
   ]
  },
  {
   "cell_type": "code",
   "execution_count": 19,
   "metadata": {},
   "outputs": [],
   "source": [
    "pca = PCA(n_components=2)\n",
    "result = pca.fit_transform(X)"
   ]
  },
  {
   "cell_type": "markdown",
   "metadata": {},
   "source": [
    "Randomly select 100 words"
   ]
  },
  {
   "cell_type": "code",
   "execution_count": 20,
   "metadata": {},
   "outputs": [],
   "source": [
    "import random\n",
    "random.seed(2)"
   ]
  },
  {
   "cell_type": "code",
   "execution_count": 21,
   "metadata": {
    "scrolled": true
   },
   "outputs": [],
   "source": [
    "ind = random.sample(range(0,len(X)),100)\n",
    "result_random = result[ind]\n",
    "all_words = list(model.wv.index_to_key)\n",
    "words = [all_words[i] for i in ind]"
   ]
  },
  {
   "cell_type": "code",
   "execution_count": 22,
   "metadata": {},
   "outputs": [
    {
     "data": {
      "image/png": "[encoded data removed]",
      "text/plain": [
       "<Figure size 864x864 with 1 Axes>"
      ]
     },
     "metadata": {
      "needs_background": "light"
     },
     "output_type": "display_data"
    }
   ],
   "source": [
    "plt.figure(figsize=(12,12))\n",
    "plt.scatter(result_random[:,0], result_random[:,1])\n",
    "for i, word in enumerate(words):\n",
    "    plt.annotate(word, xy=(result_random[i, 0], result_random[i, 1]))\n",
    "plt.show()"
   ]
  },
  {
   "cell_type": "markdown",
   "metadata": {},
   "source": [
    "## Effect of vector dimension"
   ]
  },
  {
   "cell_type": "markdown",
   "metadata": {},
   "source": [
    "#### Reducing the length to 50"
   ]
  },
  {
   "cell_type": "code",
   "execution_count": 23,
   "metadata": {},
   "outputs": [],
   "source": [
    "model = Word2Vec(sentences, vector_size=50)"
   ]
  },
  {
   "cell_type": "code",
   "execution_count": 24,
   "metadata": {},
   "outputs": [
    {
     "data": {
      "text/plain": [
       "[('profits', 0.7808783650398254),\n",
       " ('payment', 0.7457652688026428),\n",
       " ('credit', 0.741869330406189),\n",
       " ('demand', 0.7256633043289185),\n",
       " ('pay', 0.7230798602104187),\n",
       " ('funding', 0.7188646793365479),\n",
       " ('funds', 0.7129193544387817),\n",
       " ('tax', 0.7057324051856995),\n",
       " ('royalties', 0.7010988593101501),\n",
       " ('payments', 0.696876585483551)]"
      ]
     },
     "execution_count": 24,
     "metadata": {},
     "output_type": "execute_result"
    }
   ],
   "source": [
    "model.wv.most_similar(\"money\")"
   ]
  },
  {
   "cell_type": "code",
   "execution_count": 25,
   "metadata": {},
   "outputs": [
    {
     "data": {
      "text/plain": [
       "[('princess', 0.8102490305900574),\n",
       " ('elizabeth', 0.8055792450904846),\n",
       " ('prince', 0.800324022769928),\n",
       " ('king', 0.7861493825912476),\n",
       " ('consort', 0.7367924451828003)]"
      ]
     },
     "execution_count": 25,
     "metadata": {},
     "output_type": "execute_result"
    }
   ],
   "source": [
    "model.wv.most_similar(\"queen\", topn=5)"
   ]
  },
  {
   "cell_type": "code",
   "execution_count": 26,
   "metadata": {
    "scrolled": true
   },
   "outputs": [
    {
     "data": {
      "text/plain": [
       "[('queen', 0.7694432139396667),\n",
       " ('empress', 0.7589250206947327),\n",
       " ('son', 0.7315011024475098),\n",
       " ('daughter', 0.7136207818984985),\n",
       " ('prince', 0.7102426290512085)]"
      ]
     },
     "execution_count": 26,
     "metadata": {},
     "output_type": "execute_result"
    }
   ],
   "source": [
    "model.wv.most_similar(positive=['woman', 'king'], negative=['man'], topn=5)"
   ]
  },
  {
   "cell_type": "markdown",
   "metadata": {},
   "source": [
    "#### Inreasing vector length to 300"
   ]
  },
  {
   "cell_type": "code",
   "execution_count": 27,
   "metadata": {},
   "outputs": [],
   "source": [
    "model = word2vec.Word2Vec(sentences, vector_size = 300)"
   ]
  },
  {
   "cell_type": "code",
   "execution_count": 28,
   "metadata": {},
   "outputs": [
    {
     "data": {
      "text/plain": [
       "[('profits', 0.6886125206947327),\n",
       " ('payment', 0.6682354807853699),\n",
       " ('credit', 0.6576748490333557),\n",
       " ('debts', 0.638232409954071),\n",
       " ('demand', 0.6333409547805786),\n",
       " ('funds', 0.6321266293525696),\n",
       " ('cash', 0.6284332275390625),\n",
       " ('buying', 0.6241595149040222),\n",
       " ('pay', 0.6141579151153564),\n",
       " ('payments', 0.6116129159927368)]"
      ]
     },
     "execution_count": 28,
     "metadata": {},
     "output_type": "execute_result"
    }
   ],
   "source": [
    "model.wv.most_similar(\"money\")"
   ]
  },
  {
   "cell_type": "code",
   "execution_count": 29,
   "metadata": {
    "scrolled": true
   },
   "outputs": [
    {
     "data": {
      "text/plain": [
       "[('princess', 0.7403468489646912),\n",
       " ('elizabeth', 0.7358044981956482),\n",
       " ('prince', 0.6817822456359863),\n",
       " ('duchess', 0.6369189620018005),\n",
       " ('mary', 0.6311557292938232),\n",
       " ('victoria', 0.6220114827156067),\n",
       " ('consort', 0.6127617359161377),\n",
       " ('regent', 0.611581027507782),\n",
       " ('crown', 0.6109246015548706),\n",
       " ('king', 0.6082422137260437)]"
      ]
     },
     "execution_count": 29,
     "metadata": {},
     "output_type": "execute_result"
    }
   ],
   "source": [
    "model.wv.most_similar(\"queen\")"
   ]
  },
  {
   "cell_type": "code",
   "execution_count": 30,
   "metadata": {
    "scrolled": true
   },
   "outputs": [
    {
     "data": {
      "text/plain": [
       "[('queen', 0.5893046855926514),\n",
       " ('prince', 0.5329902172088623),\n",
       " ('princess', 0.5285025835037231),\n",
       " ('throne', 0.5246874094009399),\n",
       " ('empress', 0.5217534303665161)]"
      ]
     },
     "execution_count": 30,
     "metadata": {},
     "output_type": "execute_result"
    }
   ],
   "source": [
    "model.wv.most_similar(positive=['woman', 'king'], negative=['man'], topn=5)"
   ]
  },
  {
   "cell_type": "markdown",
   "metadata": {},
   "source": [
    "## Skip gram vs CBOW"
   ]
  },
  {
   "cell_type": "markdown",
   "metadata": {},
   "source": [
    "Simply put, the CBOW model learns the embedding by predicting the current word based on its context. The skip-gram model learns by predicting the surrounding words given a current word."
   ]
  },
  {
   "cell_type": "markdown",
   "metadata": {},
   "source": [
    "![](https://3qeqpr26caki16dnhd19sv6by6v-wpengine.netdna-ssl.com/wp-content/uploads/2017/08/Word2Vec-Training-Models.png)"
   ]
  },
  {
   "cell_type": "markdown",
   "metadata": {},
   "source": [
    "#### Using Skipgram method\n",
    "Learning with one neighbor (or in another words skip gram as 1)"
   ]
  },
  {
   "cell_type": "code",
   "execution_count": 31,
   "metadata": {},
   "outputs": [],
   "source": [
    "model_sg = word2vec.Word2Vec(sentences, vector_size=100,sg=1)"
   ]
  },
  {
   "cell_type": "code",
   "execution_count": 32,
   "metadata": {},
   "outputs": [
    {
     "data": {
      "text/plain": [
       "[('dividends', 0.7734127044677734),\n",
       " ('profits', 0.7714610695838928),\n",
       " ('repay', 0.7613295316696167),\n",
       " ('payments', 0.7455688714981079),\n",
       " ('lenders', 0.7383276224136353),\n",
       " ('debts', 0.7329761981964111),\n",
       " ('repayment', 0.7288007736206055),\n",
       " ('arrears', 0.7273670434951782),\n",
       " ('credit', 0.7242779731750488),\n",
       " ('accrued', 0.7235265374183655)]"
      ]
     },
     "execution_count": 32,
     "metadata": {},
     "output_type": "execute_result"
    }
   ],
   "source": [
    "model_sg.wv.most_similar(\"money\")"
   ]
  },
  {
   "cell_type": "code",
   "execution_count": 33,
   "metadata": {},
   "outputs": [
    {
     "data": {
      "text/plain": [
       "[('elizabeth', 0.8059068918228149),\n",
       " ('highness', 0.7570359110832214),\n",
       " ('prince', 0.7469916939735413),\n",
       " ('consort', 0.7410132884979248),\n",
       " ('isabella', 0.7375257611274719),\n",
       " ('monarch', 0.7344670295715332),\n",
       " ('margrethe', 0.7276220321655273),\n",
       " ('crown', 0.7177204489707947),\n",
       " ('hrh', 0.7153650522232056),\n",
       " ('princess', 0.7138627767562866)]"
      ]
     },
     "execution_count": 33,
     "metadata": {},
     "output_type": "execute_result"
    }
   ],
   "source": [
    "model_sg.wv.most_similar(\"queen\")"
   ]
  },
  {
   "cell_type": "code",
   "execution_count": 34,
   "metadata": {},
   "outputs": [
    {
     "data": {
      "text/plain": [
       "[('throne', 0.6554933190345764),\n",
       " ('queen', 0.654312789440155),\n",
       " ('empress', 0.6380031704902649),\n",
       " ('daughter', 0.6356722712516785),\n",
       " ('dowager', 0.6273168325424194)]"
      ]
     },
     "execution_count": 34,
     "metadata": {},
     "output_type": "execute_result"
    }
   ],
   "source": [
    "model_sg.wv.most_similar(positive=['woman', 'king'], negative=['man'], topn=5)"
   ]
  },
  {
   "cell_type": "code",
   "execution_count": 35,
   "metadata": {},
   "outputs": [
    {
     "data": {
      "text/plain": [
       "[('wadis', 0.9107422232627869),\n",
       " ('watercourses', 0.9053035378456116),\n",
       " ('sinuous', 0.8979583978652954),\n",
       " ('meltwater', 0.8932070732116699),\n",
       " ('drumlins', 0.8927880525588989),\n",
       " ('basaltic', 0.8904973268508911),\n",
       " ('troughs', 0.8894377946853638),\n",
       " ('steeper', 0.8874911069869995),\n",
       " ('outwash', 0.8870734572410583),\n",
       " ('eskers', 0.8861150145530701)]"
      ]
     },
     "execution_count": 35,
     "metadata": {},
     "output_type": "execute_result"
    }
   ],
   "source": [
    "model_sg.wv.most_similar(\"meandering\")"
   ]
  },
  {
   "cell_type": "markdown",
   "metadata": {},
   "source": [
    "#### Learning:\n",
    "In CBOW the vectors from the context words are averaged before predicting the center word. In skip-gram there is no averaging of embedding vectors. It seems like the model can learn better representations for the rare words when their vectors are not averaged with the other context words in the process of making the predictions. "
   ]
  },
  {
   "cell_type": "markdown",
   "metadata": {},
   "source": [
    "## Word vectors trained on different contexts\n",
    " - We'll load different corpora, from different contexts and see how the embeddings vary\n",
    " - The text8 corpus is wikipedia pages, while Brown corpus is from 15 different topics, and movie reviews are from IMDB"
   ]
  },
  {
   "cell_type": "code",
   "execution_count": 36,
   "metadata": {},
   "outputs": [],
   "source": [
    "# import nltk\n",
    "# nltk.download('brown')"
   ]
  },
  {
   "cell_type": "code",
   "execution_count": 37,
   "metadata": {},
   "outputs": [],
   "source": [
    "from nltk.corpus import brown, movie_reviews"
   ]
  },
  {
   "cell_type": "code",
   "execution_count": 38,
   "metadata": {},
   "outputs": [],
   "source": [
    "model_brown = Word2Vec(brown.sents(), sg=1)"
   ]
  },
  {
   "cell_type": "code",
   "execution_count": 39,
   "metadata": {},
   "outputs": [],
   "source": [
    "model_movie = Word2Vec(movie_reviews.sents(), sg=1, window=5)"
   ]
  },
  {
   "cell_type": "markdown",
   "metadata": {},
   "source": [
    "#### Difference between three models for the same word"
   ]
  },
  {
   "cell_type": "code",
   "execution_count": 40,
   "metadata": {},
   "outputs": [
    {
     "data": {
      "text/plain": [
       "[('dividends', 0.7734127044677734),\n",
       " ('profits', 0.7714610695838928),\n",
       " ('repay', 0.7613295316696167),\n",
       " ('payments', 0.7455688714981079),\n",
       " ('lenders', 0.7383276224136353)]"
      ]
     },
     "execution_count": 40,
     "metadata": {},
     "output_type": "execute_result"
    }
   ],
   "source": [
    "model_sg.wv.most_similar('money', topn=5)"
   ]
  },
  {
   "cell_type": "code",
   "execution_count": 41,
   "metadata": {},
   "outputs": [
    {
     "data": {
      "text/plain": [
       "[('care', 0.8299673795700073),\n",
       " ('job', 0.826471209526062),\n",
       " ('friendship', 0.8199467062950134),\n",
       " ('joy', 0.8071921467781067),\n",
       " ('risk', 0.8037932515144348)]"
      ]
     },
     "execution_count": 41,
     "metadata": {},
     "output_type": "execute_result"
    }
   ],
   "source": [
    "model_brown.wv.most_similar('money', topn=5)"
   ]
  },
  {
   "cell_type": "code",
   "execution_count": 42,
   "metadata": {},
   "outputs": [
    {
     "data": {
      "text/plain": [
       "[('cash', 0.776312530040741),\n",
       " ('record', 0.708215594291687),\n",
       " ('paid', 0.6949790120124817),\n",
       " ('risk', 0.6945623755455017),\n",
       " ('ransom', 0.6911716461181641)]"
      ]
     },
     "execution_count": 42,
     "metadata": {},
     "output_type": "execute_result"
    }
   ],
   "source": [
    "model_movie.wv.most_similar('money', topn=5)"
   ]
  },
  {
   "cell_type": "markdown",
   "metadata": {},
   "source": [
    " \n",
    "It’s pretty clear from the above examples that the semantic similarity of words can vary greatly depending on the textual context. "
   ]
  },
  {
   "cell_type": "markdown",
   "metadata": {},
   "source": [
    "## Using pre-trained word vectors"
   ]
  },
  {
   "cell_type": "markdown",
   "metadata": {},
   "source": [
    "### A quick note on Glove:\n",
    "   - Developed by Stanford by training on 6 Billion tokens\n",
    "   - Objective is slightly different\n",
    "   - End result very similar to Google's word2vec"
   ]
  },
  {
   "cell_type": "markdown",
   "metadata": {},
   "source": [
    "https://nlp.stanford.edu/projects/glove/"
   ]
  },
  {
   "cell_type": "markdown",
   "metadata": {},
   "source": [
    "- We'll use the 100D vectors for this example.\n",
    "- The format is slightly different from that of word2vec, necessitating the use of a utility to format accordingly"
   ]
  },
  {
   "cell_type": "code",
   "execution_count": 43,
   "metadata": {},
   "outputs": [
    {
     "name": "stderr",
     "output_type": "stream",
     "text": [
      "<ipython-input-43-552ec37b82eb>:4: DeprecationWarning: Call to deprecated `glove2word2vec` (KeyedVectors.load_word2vec_format(.., binary=False, no_header=True) loads GLoVE text vectors.).\n",
      "  glove2word2vec(glove_input_file, word2vec_output_file)\n"
     ]
    },
    {
     "data": {
      "text/plain": [
       "(400000, 100)"
      ]
     },
     "execution_count": 43,
     "metadata": {},
     "output_type": "execute_result"
    }
   ],
   "source": [
    "from gensim.scripts.glove2word2vec import glove2word2vec\n",
    "glove_input_file = 'glove.6B.100d.txt'\n",
    "word2vec_output_file = 'glove.6B.100d.w2vformat.txt'\n",
    "glove2word2vec(glove_input_file, word2vec_output_file)"
   ]
  },
  {
   "cell_type": "code",
   "execution_count": 44,
   "metadata": {},
   "outputs": [],
   "source": [
    "from gensim.models.keyedvectors import KeyedVectors\n",
    "glove_model = KeyedVectors.load_word2vec_format(\"glove.6B.100d.w2vformat.txt\", binary=False)"
   ]
  },
  {
   "cell_type": "markdown",
   "metadata": {},
   "source": [
    "#### Now we can use all the methods we used with word2vec models"
   ]
  },
  {
   "cell_type": "code",
   "execution_count": 45,
   "metadata": {},
   "outputs": [
    {
     "data": {
      "text/plain": [
       "[('prince', 0.7682329416275024),\n",
       " ('queen', 0.7507690787315369),\n",
       " ('son', 0.7020888328552246),\n",
       " ('brother', 0.6985775828361511),\n",
       " ('monarch', 0.6977890729904175),\n",
       " ('throne', 0.691999077796936),\n",
       " ('kingdom', 0.6811409592628479),\n",
       " ('father', 0.6802029013633728),\n",
       " ('emperor', 0.6712858080863953),\n",
       " ('ii', 0.6676074266433716)]"
      ]
     },
     "execution_count": 45,
     "metadata": {},
     "output_type": "execute_result"
    }
   ],
   "source": [
    "glove_model.most_similar(\"king\")"
   ]
  },
  {
   "cell_type": "code",
   "execution_count": 46,
   "metadata": {},
   "outputs": [
    {
     "data": {
      "text/plain": [
       "[('queen', 0.7698541283607483),\n",
       " ('monarch', 0.6843380928039551),\n",
       " ('throne', 0.6755736470222473),\n",
       " ('daughter', 0.6594556570053101),\n",
       " ('princess', 0.6520534157752991)]"
      ]
     },
     "execution_count": 46,
     "metadata": {},
     "output_type": "execute_result"
    }
   ],
   "source": [
    "glove_model.most_similar(positive=['woman', 'king'], negative=['man'], topn=5)"
   ]
  },
  {
   "cell_type": "code",
   "execution_count": 47,
   "metadata": {},
   "outputs": [
    {
     "data": {
      "text/plain": [
       "[('heroine', 0.7324979305267334),\n",
       " ('heroes', 0.6356217861175537),\n",
       " ('icon', 0.6185223460197449),\n",
       " ('beloved', 0.6136684417724609),\n",
       " ('herself', 0.5904076099395752)]"
      ]
     },
     "execution_count": 47,
     "metadata": {},
     "output_type": "execute_result"
    }
   ],
   "source": [
    "glove_model.most_similar(positive=['woman', 'hero'], negative=['man'], topn=5)"
   ]
  },
  {
   "cell_type": "code",
   "execution_count": null,
   "metadata": {},
   "outputs": [],
   "source": []
  }
 ],
 "metadata": {
  "kernelspec": {
   "display_name": "Python 3",
   "language": "python",
   "name": "python3"
  },
  "language_info": {
   "codemirror_mode": {
    "name": "ipython",
    "version": 3
   },
   "file_extension": ".py",
   "mimetype": "text/x-python",
   "name": "python",
   "nbconvert_exporter": "python",
   "pygments_lexer": "ipython3",
   "version": "3.8.8"
  }
 },
 "nbformat": 4,
 "nbformat_minor": 2
}
