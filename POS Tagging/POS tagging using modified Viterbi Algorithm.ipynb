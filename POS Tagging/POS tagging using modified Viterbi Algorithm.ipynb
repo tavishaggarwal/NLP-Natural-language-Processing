{
 "cells": [
  {
   "cell_type": "markdown",
   "metadata": {},
   "source": [
    "## POS tagging using modified Viterbi"
   ]
  },
  {
   "cell_type": "markdown",
   "metadata": {},
   "source": [
    "### Data Preparation"
   ]
  },
  {
   "cell_type": "code",
   "execution_count": 1,
   "metadata": {},
   "outputs": [],
   "source": [
    "#Importing libraries\n",
    "import nltk\n",
    "import random\n",
    "from sklearn.model_selection import train_test_split\n",
    "import numpy as np\n",
    "import pandas as pd\n",
    "import matplotlib.pyplot as plt\n",
    "import seaborn as sns\n",
    "import time\n",
    "import progressbar\n",
    "# nltk.download('universal_tagset')"
   ]
  },
  {
   "cell_type": "code",
   "execution_count": 2,
   "metadata": {},
   "outputs": [
    {
     "data": {
      "text/plain": [
       "[[('Pierre', 'NOUN'),\n",
       "  ('Vinken', 'NOUN'),\n",
       "  (',', '.'),\n",
       "  ('61', 'NUM'),\n",
       "  ('years', 'NOUN'),\n",
       "  ('old', 'ADJ'),\n",
       "  (',', '.'),\n",
       "  ('will', 'VERB'),\n",
       "  ('join', 'VERB'),\n",
       "  ('the', 'DET'),\n",
       "  ('board', 'NOUN'),\n",
       "  ('as', 'ADP'),\n",
       "  ('a', 'DET'),\n",
       "  ('nonexecutive', 'ADJ'),\n",
       "  ('director', 'NOUN'),\n",
       "  ('Nov.', 'NOUN'),\n",
       "  ('29', 'NUM'),\n",
       "  ('.', '.')]]"
      ]
     },
     "execution_count": 2,
     "metadata": {},
     "output_type": "execute_result"
    }
   ],
   "source": [
    "# reading the Treebank tagged sentences\n",
    "nltk_data = list(nltk.corpus.treebank.tagged_sents(tagset='universal'))\n",
    "nltk_data[:1]"
   ]
  },
  {
   "cell_type": "code",
   "execution_count": 3,
   "metadata": {},
   "outputs": [],
   "source": [
    "# Splitting into train and test into 95:5 ratio respectively\n",
    "random.seed(1234)\n",
    "train_set, test_set = train_test_split(nltk_data, test_size=0.05)"
   ]
  },
  {
   "cell_type": "code",
   "execution_count": 4,
   "metadata": {},
   "outputs": [
    {
     "name": "stdout",
     "output_type": "stream",
     "text": [
      "3718 196\n"
     ]
    }
   ],
   "source": [
    "# Checking the length of training and test set\n",
    "print(len(train_set), len(test_set))"
   ]
  },
  {
   "cell_type": "code",
   "execution_count": 5,
   "metadata": {},
   "outputs": [
    {
     "data": {
      "text/plain": [
       "[[('Profit', 'NOUN'),\n",
       "  ('from', 'ADP'),\n",
       "  ('continuing', 'VERB'),\n",
       "  ('operations', 'NOUN'),\n",
       "  ('has', 'VERB'),\n",
       "  ('soared', 'VERB'),\n",
       "  ('to', 'PRT'),\n",
       "  ('$', '.'),\n",
       "  ('467', 'NUM'),\n",
       "  ('million', 'NUM'),\n",
       "  ('*U*', 'X'),\n",
       "  ('from', 'ADP'),\n",
       "  ('$', '.'),\n",
       "  ('75', 'NUM'),\n",
       "  ('million', 'NUM'),\n",
       "  ('*U*', 'X'),\n",
       "  ('.', '.')],\n",
       " [('The', 'DET'),\n",
       "  ('filing', 'NOUN'),\n",
       "  ('on', 'ADP'),\n",
       "  ('the', 'DET'),\n",
       "  ('details', 'NOUN'),\n",
       "  ('of', 'ADP'),\n",
       "  ('the', 'DET'),\n",
       "  ('spinoff', 'NOUN'),\n",
       "  ('caused', 'VERB'),\n",
       "  ('Cray', 'NOUN'),\n",
       "  ('Research', 'NOUN'),\n",
       "  ('stock', 'NOUN'),\n",
       "  ('to', 'PRT'),\n",
       "  ('jump', 'VERB'),\n",
       "  ('$', '.'),\n",
       "  ('2.875', 'NUM'),\n",
       "  ('*U*', 'X'),\n",
       "  ('yesterday', 'NOUN'),\n",
       "  ('*-1', 'X'),\n",
       "  ('to', 'PRT'),\n",
       "  ('close', 'VERB'),\n",
       "  ('at', 'ADP'),\n",
       "  ('$', '.'),\n",
       "  ('38', 'NUM'),\n",
       "  ('*U*', 'X'),\n",
       "  ('in', 'ADP'),\n",
       "  ('New', 'NOUN'),\n",
       "  ('York', 'NOUN'),\n",
       "  ('Stock', 'NOUN'),\n",
       "  ('Exchange', 'NOUN'),\n",
       "  ('composite', 'ADJ'),\n",
       "  ('trading', 'NOUN'),\n",
       "  ('.', '.')]]"
      ]
     },
     "execution_count": 5,
     "metadata": {},
     "output_type": "execute_result"
    }
   ],
   "source": [
    "train_set[:2]"
   ]
  },
  {
   "cell_type": "code",
   "execution_count": 6,
   "metadata": {},
   "outputs": [],
   "source": [
    "# Creating list of tagged words\n",
    "train_tagged_words = [tupple for w in train_set for tupple in w]\n",
    "train_words = [tupple[0] for w in train_set for tupple in w]\n",
    "train_tags = [tupple[1] for w in train_set for tupple in w]"
   ]
  },
  {
   "cell_type": "code",
   "execution_count": 7,
   "metadata": {},
   "outputs": [
    {
     "name": "stdout",
     "output_type": "stream",
     "text": [
      "95795 95795\n",
      "['Profit', 'from'] ['NOUN', 'ADP']\n"
     ]
    }
   ],
   "source": [
    "# Verifying whether the unpack was successful\n",
    "print(len(train_words), len(train_tags))\n",
    "print(train_words[:2], train_tags[:2])"
   ]
  },
  {
   "cell_type": "code",
   "execution_count": 8,
   "metadata": {},
   "outputs": [],
   "source": [
    "# Get unique words and tag available in the corpus\n",
    "unique_train_words = set(train_words)\n",
    "unique_train_tags = set(train_tags)"
   ]
  },
  {
   "cell_type": "code",
   "execution_count": 9,
   "metadata": {},
   "outputs": [
    {
     "name": "stdout",
     "output_type": "stream",
     "text": [
      "12073 12\n",
      "{'CONJ', 'DET', 'PRT', 'X', 'NOUN', 'ADJ', 'ADV', 'ADP', 'NUM', '.', 'PRON', 'VERB'}\n"
     ]
    }
   ],
   "source": [
    "print(len(unique_train_words),len(unique_train_tags))\n",
    "print(unique_train_tags)"
   ]
  },
  {
   "cell_type": "markdown",
   "metadata": {},
   "source": [
    "`Inference: ` There are 12074 out of 95527 unique words. Also there are 12 different type of unique tags used in the corpus."
   ]
  },
  {
   "cell_type": "code",
   "execution_count": 10,
   "metadata": {},
   "outputs": [],
   "source": [
    "# Before proceeding further with the vanilla Viterbi based POS tagger\n",
    "# Let's first create a set pf emission probabilities as they will be same through out the corpus\n",
    "# We are doing this to avoid computional power to calculate them while labelling POS tag in Viterbi algorithm\n",
    "# I will be using Emission Probability and Transition Probability code"
   ]
  },
  {
   "cell_type": "code",
   "execution_count": 11,
   "metadata": {},
   "outputs": [],
   "source": [
    "# compute tag given tag: tag2(t2) given tag1 (t1), i.e. Transition Probability\n",
    "\n",
    "def t2_given_t1(t2, t1, train_bag = train_tagged_words):\n",
    "    tags = [pair[1] for pair in train_bag]\n",
    "    count_t1 = len([t for t in tags if t==t1])\n",
    "    count_t2_t1 = 0\n",
    "    for index in range(len(tags)-1):\n",
    "        if tags[index]==t1 and tags[index+1] == t2:\n",
    "            count_t2_t1 += 1\n",
    "    return (count_t2_t1, count_t1)"
   ]
  },
  {
   "cell_type": "code",
   "execution_count": 12,
   "metadata": {},
   "outputs": [],
   "source": [
    "# creating t x t transition matrix of tags\n",
    "# each column is t2, each row is t1\n",
    "# thus M(i, j) represents P(tj given ti)\n",
    "\n",
    "tags_matrix = np.zeros((len(unique_train_tags), len(unique_train_tags)), dtype='float32')\n",
    "for i, t1 in enumerate(list(unique_train_tags)):\n",
    "    for j, t2 in enumerate(list(unique_train_tags)): \n",
    "        tags_matrix[i, j] = t2_given_t1(t2, t1)[0]/t2_given_t1(t2, t1)[1]"
   ]
  },
  {
   "cell_type": "code",
   "execution_count": 13,
   "metadata": {},
   "outputs": [
    {
     "data": {
      "text/html": [
       "<div>\n",
       "<style scoped>\n",
       "    .dataframe tbody tr th:only-of-type {\n",
       "        vertical-align: middle;\n",
       "    }\n",
       "\n",
       "    .dataframe tbody tr th {\n",
       "        vertical-align: top;\n",
       "    }\n",
       "\n",
       "    .dataframe thead th {\n",
       "        text-align: right;\n",
       "    }\n",
       "</style>\n",
       "<table border=\"1\" class=\"dataframe\">\n",
       "  <thead>\n",
       "    <tr style=\"text-align: right;\">\n",
       "      <th></th>\n",
       "      <th>CONJ</th>\n",
       "      <th>DET</th>\n",
       "      <th>PRT</th>\n",
       "      <th>X</th>\n",
       "      <th>NOUN</th>\n",
       "      <th>ADJ</th>\n",
       "      <th>ADV</th>\n",
       "      <th>ADP</th>\n",
       "      <th>NUM</th>\n",
       "      <th>.</th>\n",
       "      <th>PRON</th>\n",
       "      <th>VERB</th>\n",
       "    </tr>\n",
       "  </thead>\n",
       "  <tbody>\n",
       "    <tr>\n",
       "      <th>CONJ</th>\n",
       "      <td>0.000464</td>\n",
       "      <td>0.118439</td>\n",
       "      <td>0.005109</td>\n",
       "      <td>0.008360</td>\n",
       "      <td>0.344635</td>\n",
       "      <td>0.117046</td>\n",
       "      <td>0.054807</td>\n",
       "      <td>0.055272</td>\n",
       "      <td>0.042731</td>\n",
       "      <td>0.036693</td>\n",
       "      <td>0.058059</td>\n",
       "      <td>0.158384</td>\n",
       "    </tr>\n",
       "    <tr>\n",
       "      <th>DET</th>\n",
       "      <td>0.000361</td>\n",
       "      <td>0.005180</td>\n",
       "      <td>0.000241</td>\n",
       "      <td>0.045175</td>\n",
       "      <td>0.639923</td>\n",
       "      <td>0.205156</td>\n",
       "      <td>0.012890</td>\n",
       "      <td>0.009035</td>\n",
       "      <td>0.022046</td>\n",
       "      <td>0.017347</td>\n",
       "      <td>0.003734</td>\n",
       "      <td>0.038911</td>\n",
       "    </tr>\n",
       "    <tr>\n",
       "      <th>PRT</th>\n",
       "      <td>0.002277</td>\n",
       "      <td>0.100846</td>\n",
       "      <td>0.001952</td>\n",
       "      <td>0.013338</td>\n",
       "      <td>0.242681</td>\n",
       "      <td>0.084255</td>\n",
       "      <td>0.009759</td>\n",
       "      <td>0.020494</td>\n",
       "      <td>0.059206</td>\n",
       "      <td>0.043917</td>\n",
       "      <td>0.017892</td>\n",
       "      <td>0.403383</td>\n",
       "    </tr>\n",
       "    <tr>\n",
       "      <th>X</th>\n",
       "      <td>0.009992</td>\n",
       "      <td>0.055511</td>\n",
       "      <td>0.185884</td>\n",
       "      <td>0.075178</td>\n",
       "      <td>0.062014</td>\n",
       "      <td>0.016971</td>\n",
       "      <td>0.025059</td>\n",
       "      <td>0.142585</td>\n",
       "      <td>0.002696</td>\n",
       "      <td>0.163838</td>\n",
       "      <td>0.056622</td>\n",
       "      <td>0.203648</td>\n",
       "    </tr>\n",
       "    <tr>\n",
       "      <th>NOUN</th>\n",
       "      <td>0.042418</td>\n",
       "      <td>0.013324</td>\n",
       "      <td>0.043951</td>\n",
       "      <td>0.029313</td>\n",
       "      <td>0.263087</td>\n",
       "      <td>0.012265</td>\n",
       "      <td>0.016975</td>\n",
       "      <td>0.177338</td>\n",
       "      <td>0.009090</td>\n",
       "      <td>0.240308</td>\n",
       "      <td>0.004746</td>\n",
       "      <td>0.147186</td>\n",
       "    </tr>\n",
       "    <tr>\n",
       "      <th>ADJ</th>\n",
       "      <td>0.017052</td>\n",
       "      <td>0.005083</td>\n",
       "      <td>0.010494</td>\n",
       "      <td>0.021151</td>\n",
       "      <td>0.698147</td>\n",
       "      <td>0.067388</td>\n",
       "      <td>0.004755</td>\n",
       "      <td>0.077390</td>\n",
       "      <td>0.020331</td>\n",
       "      <td>0.065421</td>\n",
       "      <td>0.000492</td>\n",
       "      <td>0.012297</td>\n",
       "    </tr>\n",
       "    <tr>\n",
       "      <th>ADV</th>\n",
       "      <td>0.006917</td>\n",
       "      <td>0.067852</td>\n",
       "      <td>0.013505</td>\n",
       "      <td>0.023386</td>\n",
       "      <td>0.032609</td>\n",
       "      <td>0.128788</td>\n",
       "      <td>0.080369</td>\n",
       "      <td>0.119565</td>\n",
       "      <td>0.031950</td>\n",
       "      <td>0.136364</td>\n",
       "      <td>0.014163</td>\n",
       "      <td>0.344532</td>\n",
       "    </tr>\n",
       "    <tr>\n",
       "      <th>ADP</th>\n",
       "      <td>0.000745</td>\n",
       "      <td>0.326057</td>\n",
       "      <td>0.001491</td>\n",
       "      <td>0.033862</td>\n",
       "      <td>0.321372</td>\n",
       "      <td>0.106378</td>\n",
       "      <td>0.013950</td>\n",
       "      <td>0.016612</td>\n",
       "      <td>0.062613</td>\n",
       "      <td>0.039293</td>\n",
       "      <td>0.069109</td>\n",
       "      <td>0.008519</td>\n",
       "    </tr>\n",
       "    <tr>\n",
       "      <th>NUM</th>\n",
       "      <td>0.014201</td>\n",
       "      <td>0.002959</td>\n",
       "      <td>0.028107</td>\n",
       "      <td>0.209467</td>\n",
       "      <td>0.354438</td>\n",
       "      <td>0.033136</td>\n",
       "      <td>0.002959</td>\n",
       "      <td>0.036095</td>\n",
       "      <td>0.184320</td>\n",
       "      <td>0.115089</td>\n",
       "      <td>0.001479</td>\n",
       "      <td>0.017751</td>\n",
       "    </tr>\n",
       "    <tr>\n",
       "      <th>.</th>\n",
       "      <td>0.058728</td>\n",
       "      <td>0.171965</td>\n",
       "      <td>0.002335</td>\n",
       "      <td>0.027389</td>\n",
       "      <td>0.221624</td>\n",
       "      <td>0.043912</td>\n",
       "      <td>0.053161</td>\n",
       "      <td>0.091864</td>\n",
       "      <td>0.081448</td>\n",
       "      <td>0.093032</td>\n",
       "      <td>0.066631</td>\n",
       "      <td>0.087823</td>\n",
       "    </tr>\n",
       "    <tr>\n",
       "      <th>PRON</th>\n",
       "      <td>0.005335</td>\n",
       "      <td>0.008384</td>\n",
       "      <td>0.012576</td>\n",
       "      <td>0.092226</td>\n",
       "      <td>0.210366</td>\n",
       "      <td>0.073171</td>\n",
       "      <td>0.033918</td>\n",
       "      <td>0.023247</td>\n",
       "      <td>0.007622</td>\n",
       "      <td>0.039634</td>\n",
       "      <td>0.007622</td>\n",
       "      <td>0.485899</td>\n",
       "    </tr>\n",
       "    <tr>\n",
       "      <th>VERB</th>\n",
       "      <td>0.005348</td>\n",
       "      <td>0.134243</td>\n",
       "      <td>0.031468</td>\n",
       "      <td>0.218648</td>\n",
       "      <td>0.108665</td>\n",
       "      <td>0.065726</td>\n",
       "      <td>0.082390</td>\n",
       "      <td>0.091459</td>\n",
       "      <td>0.023097</td>\n",
       "      <td>0.034956</td>\n",
       "      <td>0.035963</td>\n",
       "      <td>0.168036</td>\n",
       "    </tr>\n",
       "  </tbody>\n",
       "</table>\n",
       "</div>"
      ],
      "text/plain": [
       "          CONJ       DET       PRT         X      NOUN       ADJ       ADV  \\\n",
       "CONJ  0.000464  0.118439  0.005109  0.008360  0.344635  0.117046  0.054807   \n",
       "DET   0.000361  0.005180  0.000241  0.045175  0.639923  0.205156  0.012890   \n",
       "PRT   0.002277  0.100846  0.001952  0.013338  0.242681  0.084255  0.009759   \n",
       "X     0.009992  0.055511  0.185884  0.075178  0.062014  0.016971  0.025059   \n",
       "NOUN  0.042418  0.013324  0.043951  0.029313  0.263087  0.012265  0.016975   \n",
       "ADJ   0.017052  0.005083  0.010494  0.021151  0.698147  0.067388  0.004755   \n",
       "ADV   0.006917  0.067852  0.013505  0.023386  0.032609  0.128788  0.080369   \n",
       "ADP   0.000745  0.326057  0.001491  0.033862  0.321372  0.106378  0.013950   \n",
       "NUM   0.014201  0.002959  0.028107  0.209467  0.354438  0.033136  0.002959   \n",
       ".     0.058728  0.171965  0.002335  0.027389  0.221624  0.043912  0.053161   \n",
       "PRON  0.005335  0.008384  0.012576  0.092226  0.210366  0.073171  0.033918   \n",
       "VERB  0.005348  0.134243  0.031468  0.218648  0.108665  0.065726  0.082390   \n",
       "\n",
       "           ADP       NUM         .      PRON      VERB  \n",
       "CONJ  0.055272  0.042731  0.036693  0.058059  0.158384  \n",
       "DET   0.009035  0.022046  0.017347  0.003734  0.038911  \n",
       "PRT   0.020494  0.059206  0.043917  0.017892  0.403383  \n",
       "X     0.142585  0.002696  0.163838  0.056622  0.203648  \n",
       "NOUN  0.177338  0.009090  0.240308  0.004746  0.147186  \n",
       "ADJ   0.077390  0.020331  0.065421  0.000492  0.012297  \n",
       "ADV   0.119565  0.031950  0.136364  0.014163  0.344532  \n",
       "ADP   0.016612  0.062613  0.039293  0.069109  0.008519  \n",
       "NUM   0.036095  0.184320  0.115089  0.001479  0.017751  \n",
       ".     0.091864  0.081448  0.093032  0.066631  0.087823  \n",
       "PRON  0.023247  0.007622  0.039634  0.007622  0.485899  \n",
       "VERB  0.091459  0.023097  0.034956  0.035963  0.168036  "
      ]
     },
     "execution_count": 13,
     "metadata": {},
     "output_type": "execute_result"
    }
   ],
   "source": [
    "# convert the matrix to a df for better readability\n",
    "tags_df = pd.DataFrame(tags_matrix, columns = list(unique_train_tags), index=list(unique_train_tags))\n",
    "tags_df"
   ]
  },
  {
   "cell_type": "code",
   "execution_count": 14,
   "metadata": {},
   "outputs": [
    {
     "data": {
      "image/png": "[encoded data removed]",
      "text/plain": [
       "<Figure size 1080x576 with 2 Axes>"
      ]
     },
     "metadata": {
      "needs_background": "light"
     },
     "output_type": "display_data"
    }
   ],
   "source": [
    "# heatmap of tags matrix\n",
    "plt.figure(figsize=(15, 8))\n",
    "sns.heatmap(tags_df)\n",
    "plt.show()"
   ]
  },
  {
   "cell_type": "code",
   "execution_count": 15,
   "metadata": {},
   "outputs": [
    {
     "data": {
      "image/png": "[encoded data removed]",
      "text/plain": [
       "<Figure size 720x360 with 2 Axes>"
      ]
     },
     "metadata": {
      "needs_background": "light"
     },
     "output_type": "display_data"
    }
   ],
   "source": [
    "# frequent tags\n",
    "# filter the df to get P(t2, t1) > 0.5\n",
    "tags_frequent = tags_df[tags_df>0.5]\n",
    "plt.figure(figsize=(10, 5))\n",
    "sns.heatmap(tags_frequent, annot = True)\n",
    "plt.show()"
   ]
  },
  {
   "cell_type": "code",
   "execution_count": 16,
   "metadata": {},
   "outputs": [],
   "source": [
    "# Now after having transition probabilities calculated let's create a vanilla Viterbi algorithm"
   ]
  },
  {
   "cell_type": "markdown",
   "metadata": {},
   "source": [
    "### Build the vanilla Viterbi based POS tagger"
   ]
  },
  {
   "cell_type": "code",
   "execution_count": 17,
   "metadata": {},
   "outputs": [
    {
     "data": {
      "text/plain": [
       "[('Profit', 'NOUN'), ('from', 'ADP')]"
      ]
     },
     "execution_count": 17,
     "metadata": {},
     "output_type": "execute_result"
    }
   ],
   "source": [
    "train_tagged_words[:2]"
   ]
  },
  {
   "cell_type": "code",
   "execution_count": 18,
   "metadata": {},
   "outputs": [
    {
     "name": "stderr",
     "output_type": "stream",
     "text": [
      "100% (95795 of 95795) |##################| Elapsed Time: 0:00:00 Time:  0:00:00\n"
     ]
    }
   ],
   "source": [
    "tag_word_dict = {}\n",
    "pbar = progressbar.ProgressBar()\n",
    "for word in pbar(train_tagged_words):\n",
    "    tag_word_dict.setdefault(word[1], []).append(word[0])\n",
    "#     print(word[0])\n",
    "# tag_word_dict"
   ]
  },
  {
   "cell_type": "code",
   "execution_count": 19,
   "metadata": {},
   "outputs": [],
   "source": [
    "# Before assigning tags to the words we also need Emission Probability\n",
    "# compute word given tag: Emission Probability\n",
    "def word_given_tag(word, tag, train_bag = train_tagged_words):\n",
    "    tag_list = [pair for pair in train_bag if pair[1] == tag]\n",
    "#     print(tag_list)\n",
    "    count_tag = len(tag_list)\n",
    "    w_given_tag_list = [pair[0] for pair in tag_list if pair[0] == word]\n",
    "    count_w_given_tag = len(w_given_tag_list)\n",
    "#     print(tag, tag_word_dict.get(tag))\n",
    "#     count_w_given_tag = tag_word_dict.get(tag).count(word)\n",
    "    \n",
    "    return (count_w_given_tag, count_tag)"
   ]
  },
  {
   "cell_type": "code",
   "execution_count": 20,
   "metadata": {},
   "outputs": [],
   "source": [
    "# Viterbi Heuristic\n",
    "def Viterbi(words, train_bag = train_tagged_words):\n",
    "    state = []\n",
    "    T = list(set([pair[1] for pair in train_bag]))\n",
    "    \n",
    "    pbar = progressbar.ProgressBar(\n",
    "                max_value=len(words),\n",
    "                widgets=[' [', progressbar.Timer(), '] ', progressbar.Bar(), ' (', progressbar.ETA(), ') '])\n",
    "    for key, word in pbar(enumerate(words)):\n",
    "        #initialise list of probability column for a given observation\n",
    "        p = []\n",
    "        for tag in T:\n",
    "            if key == 0:\n",
    "                transition_p = tags_df.loc['.', tag]\n",
    "            else:\n",
    "                transition_p = tags_df.loc[state[-1], tag]\n",
    "                \n",
    "            # compute emission and state probabilities\n",
    "            emission_p = word_given_tag(words[key], tag)[0]/word_given_tag(words[key], tag)[1]\n",
    "            state_probability = emission_p * transition_p    \n",
    "            p.append(state_probability)\n",
    "            \n",
    "        pmax = max(p)\n",
    "        # getting state for which probability is maximum\n",
    "        state_max = T[p.index(pmax)] \n",
    "        state.append(state_max)\n",
    "    return list(zip(words, state))"
   ]
  },
  {
   "cell_type": "code",
   "execution_count": 21,
   "metadata": {},
   "outputs": [],
   "source": [
    "# Let's create test dataset on which we want to run the vanilla Viterbie algorithm\n",
    "# Creating list of tagged words\n",
    "\n",
    "# Running on entire test dataset would take more than 3-4hrs. \n",
    "# Let's test our Viterbi algorithm on a few sample sentences of test dataset\n",
    "\n",
    "random.seed(1234)\n",
    "\n",
    "# choose random 5 sents\n",
    "sentences_rand = [random.randint(1,len(test_set)) for x in range(5)]\n",
    "\n",
    "# list of sents\n",
    "test_sent = [test_set[i] for i in sentences_rand]\n",
    "\n",
    "# list of tagged words\n",
    "test_sent_words = [tup for sent in test_sent for tup in sent]\n",
    "\n",
    "# list of untagged words\n",
    "subset_test_tagged_words = [tup[0] for sent in test_sent for tup in sent]"
   ]
  },
  {
   "cell_type": "code",
   "execution_count": 22,
   "metadata": {},
   "outputs": [
    {
     "name": "stderr",
     "output_type": "stream",
     "text": [
      " [Elapsed Time: 0:00:16] |##################################| (Time:  0:00:16) \n"
     ]
    }
   ],
   "source": [
    "tagged_seq = Viterbi(subset_test_tagged_words)"
   ]
  },
  {
   "cell_type": "code",
   "execution_count": 23,
   "metadata": {},
   "outputs": [
    {
     "data": {
      "text/plain": [
       "0.9122807017543859"
      ]
     },
     "execution_count": 23,
     "metadata": {},
     "output_type": "execute_result"
    }
   ],
   "source": [
    "# accuracy\n",
    "check = [i for i, j in zip(tagged_seq, test_sent_words) if i == j]\n",
    "vanilla_viterbi_accuracy = len(check)/len(tagged_seq)\n",
    "vanilla_viterbi_accuracy"
   ]
  },
  {
   "cell_type": "markdown",
   "metadata": {},
   "source": [
    "`Inference: ` Vanila Viterbi is giving accuracy of 91%."
   ]
  },
  {
   "cell_type": "code",
   "execution_count": 24,
   "metadata": {},
   "outputs": [
    {
     "data": {
      "text/plain": [
       "[[('a', 'DET'), (('blank', 'CONJ'), ('blank', 'NOUN'))],\n",
       " [(\"''\", '.'), (('Mortgage-Backed', 'CONJ'), ('Mortgage-Backed', 'NOUN'))],\n",
       " [('is', 'VERB'), (('payable', 'CONJ'), ('payable', 'ADJ'))],\n",
       " [('payable', 'ADJ'), (('Jan.', 'CONJ'), ('Jan.', 'NOUN'))],\n",
       " [('*', 'X'), (('Arbitraging', 'CONJ'), ('Arbitraging', 'VERB'))]]"
      ]
     },
     "execution_count": 24,
     "metadata": {},
     "output_type": "execute_result"
    }
   ],
   "source": [
    "incorrect_tagged_cases = [[test_sent_words[i-1],j] for i, j in enumerate(zip(tagged_seq, test_sent_words)) if j[0]!=j[1]]\n",
    "incorrect_tagged_cases"
   ]
  },
  {
   "cell_type": "code",
   "execution_count": 25,
   "metadata": {},
   "outputs": [],
   "source": [
    "# Let's look at words which are there in test set but not there in training set\n",
    "test_tagged_words = [tupple for w in test_set for tupple in w]\n",
    "test_words = [tupple[0] for w in test_set for tupple in w]\n",
    "test_tags = [tupple[1] for w in test_set for tupple in w]\n",
    "unique_test_words = set(test_words)"
   ]
  },
  {
   "cell_type": "code",
   "execution_count": 26,
   "metadata": {},
   "outputs": [
    {
     "name": "stdout",
     "output_type": "stream",
     "text": [
      "335\n"
     ]
    }
   ],
   "source": [
    "# Unknown words \n",
    "\n",
    "test_vocabulary_set = set([t for t in test_tagged_words])\n",
    "\n",
    "unknown_words = list(unique_test_words - unique_train_words)\n",
    "print(len(unknown_words))"
   ]
  },
  {
   "cell_type": "markdown",
   "metadata": {},
   "source": [
    "`Inference: ` There are 334 words that are unique in our test corpus. Because of these words Viterbi is not able to give high accuracy. Next let's modify Viterbi algorithm to overcome the issue where unknown words are not labelled properly."
   ]
  },
  {
   "cell_type": "markdown",
   "metadata": {},
   "source": [
    "## Solve the problem of unknown words"
   ]
  },
  {
   "cell_type": "markdown",
   "metadata": {},
   "source": [
    "### Modification 1: Laplace Smoothing\n",
    "Here I am checking if the emission probability is zero. i.e. Word doesn't exists in the training corpus. Then in that case I am adding 1 to the emission emission probability.\n",
    "\n",
    "The reason I am doing this is, so that overall probability is not zero."
   ]
  },
  {
   "cell_type": "code",
   "execution_count": 29,
   "metadata": {},
   "outputs": [],
   "source": [
    "# Modified Viterbi Heuristic\n",
    "def Modified_Laplace_Viterbi(words, train_bag = train_tagged_words):\n",
    "    state = []\n",
    "    T = list(set([pair[1] for pair in train_bag]))\n",
    "    \n",
    "    pbar = progressbar.ProgressBar(\n",
    "                max_value=len(words),\n",
    "                widgets=[' [', progressbar.Timer(), '] ', progressbar.Bar(), ' (', progressbar.ETA(), ') '])\n",
    "    for key, word in pbar(enumerate(words)):\n",
    "        #initialise list of probability column for a given observation\n",
    "        p = [] \n",
    "        for tag in T:\n",
    "            if key == 0:\n",
    "                transition_p = tags_df.loc['.', tag]\n",
    "            else:\n",
    "                transition_p = tags_df.loc[state[-1], tag]\n",
    "                \n",
    "            # compute emission and state probabilities\n",
    "            emission_p = word_given_tag(words[key], tag)[0]/word_given_tag(words[key], tag)[1]\n",
    "            \n",
    "            # Here instead of mutiplying the emission probability everytime\n",
    "            # We are multiplying emission probability on when the word exists in the training corpus\n",
    "            if word not in train_words:\n",
    "                state_probability = (emission_p +1) * transition_p\n",
    "            else:\n",
    "                state_probability = emission_p * transition_p\n",
    "                \n",
    "            p.append(state_probability)\n",
    "            \n",
    "        pmax = max(p)\n",
    "        # getting state for which probability is maximum\n",
    "        state_max = T[p.index(pmax)] \n",
    "        state.append(state_max)\n",
    "    return list(zip(words, state))"
   ]
  },
  {
   "cell_type": "code",
   "execution_count": 30,
   "metadata": {},
   "outputs": [
    {
     "name": "stderr",
     "output_type": "stream",
     "text": [
      " [Elapsed Time: 0:00:15] |##################################| (Time:  0:00:15) \n"
     ]
    }
   ],
   "source": [
    "tagged_seq = Modified_Laplace_Viterbi(subset_test_tagged_words)"
   ]
  },
  {
   "cell_type": "code",
   "execution_count": 31,
   "metadata": {},
   "outputs": [
    {
     "data": {
      "text/plain": [
       "0.9649122807017544"
      ]
     },
     "execution_count": 31,
     "metadata": {},
     "output_type": "execute_result"
    }
   ],
   "source": [
    "# accuracy\n",
    "check = [i for i, j in zip(tagged_seq, test_sent_words) if i == j]\n",
    "modified_Laplace_Viterbi_accuracy = len(check)/len(tagged_seq)\n",
    "modified_Laplace_Viterbi_accuracy"
   ]
  },
  {
   "cell_type": "code",
   "execution_count": 32,
   "metadata": {},
   "outputs": [
    {
     "data": {
      "text/plain": [
       "[[('is', 'VERB'), (('payable', 'X'), ('payable', 'ADJ'))],\n",
       " [('payable', 'ADJ'), (('Jan.', 'VERB'), ('Jan.', 'NOUN'))]]"
      ]
     },
     "execution_count": 32,
     "metadata": {},
     "output_type": "execute_result"
    }
   ],
   "source": [
    "incorrect_tagged_cases = [[test_sent_words[i-1],j] for i, j in enumerate(zip(tagged_seq, test_sent_words)) if j[0]!=j[1]]\n",
    "incorrect_tagged_cases"
   ]
  },
  {
   "cell_type": "markdown",
   "metadata": {},
   "source": [
    "`Inference: ` After doing modification to Viterbi Agorithm, the accuracy got increased by approx 5%. Here I have done laplase smoothing where I am adding 1 to emission probability if the word doesn't exists in the training corpus. And depending on the transition probability.\n",
    "\n",
    "The reason I am doing this is since word doesn't exists in the training corpus, so the emission probability is zero."
   ]
  },
  {
   "cell_type": "markdown",
   "metadata": {},
   "source": [
    "## Checking accuracy with other models"
   ]
  },
  {
   "cell_type": "markdown",
   "metadata": {},
   "source": [
    "After making change to the Viterbi Algorithm we saw there is an improvement in the model. Another approach that we can follow is to combine multiple algorithms. Like:\n",
    "1. Viterbi and Lexicon tagger\n",
    "2. Viterbi with rule based tagger\n",
    "\n",
    "Let's try them next."
   ]
  },
  {
   "cell_type": "code",
   "execution_count": 33,
   "metadata": {},
   "outputs": [],
   "source": [
    "## Let's start with the rule based tagger\n",
    "patterns = [\n",
    "    (r'[0-9].?[,\\/]?[0-9]*','NUM'),     # Numbers \n",
    "    (r'^[aA-zZ].*[0-9]+','NOUN'),       # Alpha Numeric\n",
    "    (r'.*ing$', 'VERB'),                # gerunds\n",
    "    (r'.*ed$', 'VERB'),                 # simple past\n",
    "    (r'.*es$', 'VERB'),                 # 3rd singular present\n",
    "    (r'.*ould$', 'X'),                  # modals\n",
    "    (r'.*\\'s$', 'NOUN'),                # possessive nouns\n",
    "    (r'.*s$', 'NOUN'),                  # plural nouns\n",
    "    (r'.*', 'NOUN'),                    # nouns (default)\n",
    "    (r'(The|the|A|a|An|an)$', 'DET'),\n",
    "    (r'.*ness$', 'NOUN'),\n",
    "    (r'.*ly$', 'ADV'),\n",
    "    (r'^(0|([*|-|$].*))','X'),          # Any special character\n",
    "]\n",
    "\n",
    "# The above rules are taken from: https://www.nltk.org/book/ch05.html"
   ]
  },
  {
   "cell_type": "code",
   "execution_count": 34,
   "metadata": {},
   "outputs": [
    {
     "data": {
      "text/plain": [
       "0.3458307723827085"
      ]
     },
     "execution_count": 34,
     "metadata": {},
     "output_type": "execute_result"
    }
   ],
   "source": [
    "rule_based_tagger = nltk.RegexpTagger(patterns)\n",
    "rule_based_tagger.evaluate(test_set)"
   ]
  },
  {
   "cell_type": "code",
   "execution_count": 35,
   "metadata": {},
   "outputs": [
    {
     "name": "stdout",
     "output_type": "stream",
     "text": [
      "0.9026838762548658\n"
     ]
    }
   ],
   "source": [
    "# Unigram Tagger\n",
    "unigram_tagger = nltk.UnigramTagger(train_set)\n",
    "unigram_tagger_accuracy = unigram_tagger.evaluate(test_set)\n",
    "print(unigram_tagger_accuracy)"
   ]
  },
  {
   "cell_type": "code",
   "execution_count": 36,
   "metadata": {},
   "outputs": [
    {
     "data": {
      "text/plain": [
       "0.9469371030526531"
      ]
     },
     "execution_count": 36,
     "metadata": {},
     "output_type": "execute_result"
    }
   ],
   "source": [
    "# Unigram tagger backoff with rule based tagger\n",
    "unigram_tagger_rule_based = nltk.UnigramTagger(train_set, backoff = rule_based_tagger)\n",
    "unigram_tagger_rule_based.evaluate(test_set)"
   ]
  },
  {
   "cell_type": "code",
   "execution_count": 37,
   "metadata": {},
   "outputs": [
    {
     "data": {
      "text/plain": [
       "0.9545175169022742"
      ]
     },
     "execution_count": 37,
     "metadata": {},
     "output_type": "execute_result"
    }
   ],
   "source": [
    "# Bigram tagger backoff with unigram tagger\n",
    "\n",
    "bigram_tagger = nltk.BigramTagger(train_set, backoff = unigram_tagger_rule_based)\n",
    "bigram_tagger.evaluate(test_set)"
   ]
  },
  {
   "cell_type": "code",
   "execution_count": 38,
   "metadata": {},
   "outputs": [
    {
     "data": {
      "text/plain": [
       "0.9530833845523459"
      ]
     },
     "execution_count": 38,
     "metadata": {},
     "output_type": "execute_result"
    }
   ],
   "source": [
    "# Trigram tagger backoff with bigram tagger\n",
    "\n",
    "trigram_tagger = nltk.TrigramTagger(train_set, backoff = bigram_tagger)\n",
    "trigram_tagger.evaluate(test_set)"
   ]
  },
  {
   "cell_type": "markdown",
   "metadata": {},
   "source": [
    "`Inference: ` Since we are getting best accuarcy with trigram tagger backoff with biagram tagger, let's use it in combination to modified Viterbi algorithm as in case 1."
   ]
  },
  {
   "cell_type": "code",
   "execution_count": 39,
   "metadata": {},
   "outputs": [],
   "source": [
    "def Viterbi_modification_trigram_tagger(words, train_bag = train_tagged_words):\n",
    "    state = []\n",
    "    T = list(set([pair[1] for pair in train_bag]))\n",
    "    \n",
    "    pbar = progressbar.ProgressBar(\n",
    "                max_value=len(words),\n",
    "                widgets=[' [', progressbar.Timer(), '] ', progressbar.Bar(), ' (', progressbar.ETA(), ') '])\n",
    "    for key, word in pbar(enumerate(words)):\n",
    "        # Modification: If word doesn't exists in the training corpus\n",
    "        # We are using trigram tagger\n",
    "        if word not in train_words:\n",
    "            trigram_tag = trigram_tagger.tag_sents([[(word)]])\n",
    "            for sent in trigram_tag:\n",
    "                for tup in sent:\n",
    "                    state.append(tup[1])\n",
    "        else:\n",
    "            #initialise list of probability column for a given observation\n",
    "            p = [] \n",
    "            for tag in T:\n",
    "                if key == 0:\n",
    "                    transition_p = tags_df.loc['.', tag]\n",
    "                else:\n",
    "                    transition_p = tags_df.loc[state[-1], tag]\n",
    "\n",
    "                # compute emission and state probabilities\n",
    "                emission_p = word_given_tag(words[key], tag)[0]/word_given_tag(words[key], tag)[1]\n",
    "\n",
    "                state_probability = emission_p * transition_p\n",
    "\n",
    "                p.append(state_probability)\n",
    "\n",
    "            pmax = max(p)\n",
    "            # getting state for which probability is maximum\n",
    "            state_max = T[p.index(pmax)] \n",
    "            state.append(state_max)\n",
    "    return list(zip(words, state))"
   ]
  },
  {
   "cell_type": "code",
   "execution_count": 40,
   "metadata": {},
   "outputs": [
    {
     "name": "stderr",
     "output_type": "stream",
     "text": [
      " [Elapsed Time: 0:00:14] |##################################| (Time:  0:00:14) \n"
     ]
    }
   ],
   "source": [
    "tagged_seq = Viterbi_modification_trigram_tagger(subset_test_tagged_words)"
   ]
  },
  {
   "cell_type": "code",
   "execution_count": 41,
   "metadata": {},
   "outputs": [
    {
     "data": {
      "text/plain": [
       "0.9649122807017544"
      ]
     },
     "execution_count": 41,
     "metadata": {},
     "output_type": "execute_result"
    }
   ],
   "source": [
    "# accuracy\n",
    "check = [i for i, j in zip(tagged_seq, test_sent_words) if i == j]\n",
    "viterbi_modification_trigram_tagger_accuracy = len(check)/len(tagged_seq)\n",
    "viterbi_modification_trigram_tagger_accuracy"
   ]
  },
  {
   "cell_type": "code",
   "execution_count": 42,
   "metadata": {},
   "outputs": [
    {
     "data": {
      "text/plain": [
       "[[(\"''\", '.'), (('Mortgage-Backed', 'VERB'), ('Mortgage-Backed', 'NOUN'))],\n",
       " [('is', 'VERB'), (('payable', 'NOUN'), ('payable', 'ADJ'))]]"
      ]
     },
     "execution_count": 42,
     "metadata": {},
     "output_type": "execute_result"
    }
   ],
   "source": [
    "incorrect_tagged_cases = [[test_sent_words[i-1],j] for i, j in enumerate(zip(tagged_seq, test_sent_words)) if j[0]!=j[1]]\n",
    "incorrect_tagged_cases"
   ]
  },
  {
   "cell_type": "markdown",
   "metadata": {},
   "source": [
    "`Inference: ` After doing second level of modification to Viterbi Agorithm, the accuracy got further increased by approx 2%. Here I have combined viterbi with trigram tagger backoff with bigram, unigram and rule based tagger.\n",
    "\n",
    "For the unknown words (i.e. words that doesn't exist's in the training corpus, for those words I am running trigram tagger followed by bigram tagger. Doing this is helping me in the inclrease of the accuracy."
   ]
  },
  {
   "cell_type": "markdown",
   "metadata": {},
   "source": [
    "### Compare the tagging accuracies of the modifications with the vanilla Viterbi algorithm"
   ]
  },
  {
   "cell_type": "code",
   "execution_count": 43,
   "metadata": {},
   "outputs": [
    {
     "data": {
      "text/plain": [
       "<AxesSubplot:xlabel='0'>"
      ]
     },
     "execution_count": 43,
     "metadata": {},
     "output_type": "execute_result"
    },
    {
     "data": {
      "image/png": "[encoded data removed]",
      "text/plain": [
       "<Figure size 432x288 with 1 Axes>"
      ]
     },
     "metadata": {
      "needs_background": "light"
     },
     "output_type": "display_data"
    }
   ],
   "source": [
    "# columns = []\n",
    "accuracy_metrics = {\n",
    "    'Vanilla Viterbi': vanilla_viterbi_accuracy * 100, \n",
    "    'Laplase Smothing Viterbi': modified_Laplace_Viterbi_accuracy * 100,\n",
    "    'Viterbi and Trigram_tagger': viterbi_modification_trigram_tagger_accuracy * 100\n",
    "}\n",
    "accuracy_metrics\n",
    "accuracy_df = pd.DataFrame(accuracy_metrics.items())\n",
    "accuracy_df.set_index(0, inplace = True)\n",
    "accuracy_df.plot.line(rot = 90, legend = False)"
   ]
  },
  {
   "cell_type": "markdown",
   "metadata": {},
   "source": [
    "`Inference: ` It states that the Viterbi with combination with Trigram_tagger is showing the best accuracy."
   ]
  },
  {
   "cell_type": "code",
   "execution_count": 44,
   "metadata": {},
   "outputs": [],
   "source": [
    "## Next let's check the accuracy of the provided sentences.\n",
    "## The provided sentences are not tagged therefore firstly I will be tagging them using nltk library.\n",
    "## This will help me to check the accuracy."
   ]
  },
  {
   "cell_type": "code",
   "execution_count": 45,
   "metadata": {},
   "outputs": [],
   "source": [
    "# Reading sentences fromt the text file\n",
    "with open('Test_sentences.txt', 'r') as f:\n",
    "    sentences = f.readlines()\n",
    "sentences = map(lambda s: s.strip(), sentences)\n",
    "sentences = list(sentences)"
   ]
  },
  {
   "cell_type": "code",
   "execution_count": 46,
   "metadata": {},
   "outputs": [],
   "source": [
    "# Cleaning up the data\n",
    "sentences_list = [x for x in sentences if x]"
   ]
  },
  {
   "cell_type": "code",
   "execution_count": 47,
   "metadata": {},
   "outputs": [
    {
     "data": {
      "text/plain": [
       "['Android is a mobile operating system developed by Google.',\n",
       " 'Android has been the best-selling OS worldwide on smartphones since 2011 and on tablets since 2013.',\n",
       " \"Google and Twitter made a deal in 2015 that gave Google access to Twitter's firehose.\",\n",
       " 'Twitter is an online news and social networking service on which users post and interact with messages known as tweets.',\n",
       " 'Before entering politics, Donald Trump was a domineering businessman and a television personality.',\n",
       " 'The 2018 FIFA World Cup is the 21st FIFA World Cup, an international football tournament contested once every four years.',\n",
       " 'This is the first World Cup to be held in Eastern Europe and the 11th time that it has been held in Europe.',\n",
       " 'Show me the cheapest round trips from Dallas to Atlanta',\n",
       " 'I would like to see flights from Denver to Philadelphia.',\n",
       " 'Show me the price of the flights leaving Atlanta at about 3 in the afternoon and arriving in San Francisco.',\n",
       " 'NASA invited social media users to experience the launch of ICESAT-2 Satellite.']"
      ]
     },
     "execution_count": 47,
     "metadata": {},
     "output_type": "execute_result"
    }
   ],
   "source": [
    "sentences_list"
   ]
  },
  {
   "cell_type": "code",
   "execution_count": 48,
   "metadata": {},
   "outputs": [],
   "source": [
    "# Tagging sentences using NLTK library\n",
    "from nltk.tokenize import word_tokenize\n",
    "\n",
    "sentences_word_list = [word_tokenize(sent) for sent in sentences_list]\n",
    "labelled_sentences_list = nltk.pos_tag_sents(sentences_word_list, tagset = 'universal')\n",
    "# labelled_sentences_list"
   ]
  },
  {
   "cell_type": "code",
   "execution_count": 49,
   "metadata": {},
   "outputs": [],
   "source": [
    "# list of sents\n",
    "test_sent = [sent for sent in labelled_sentences_list]\n",
    "\n",
    "# list of tagged words\n",
    "test_sent_words = [tup for sent in labelled_sentences_list for tup in sent]\n",
    "\n",
    "# # list of untagged words\n",
    "subset_test_tagged_words = [tup[0] for sent in test_sent for tup in sent]"
   ]
  },
  {
   "cell_type": "markdown",
   "metadata": {},
   "source": [
    "## Let's test the result with the three version of Viterbi Agorithm.\n",
    "We will test the results with Vanilla Viterbi and two modifications of it."
   ]
  },
  {
   "cell_type": "markdown",
   "metadata": {},
   "source": [
    "### Vanila Viterbi"
   ]
  },
  {
   "cell_type": "code",
   "execution_count": 50,
   "metadata": {},
   "outputs": [
    {
     "name": "stderr",
     "output_type": "stream",
     "text": [
      " [Elapsed Time: 0:00:47] |##################################| (Time:  0:00:47) \n"
     ]
    },
    {
     "data": {
      "text/plain": [
       "0.7569060773480663"
      ]
     },
     "execution_count": 50,
     "metadata": {},
     "output_type": "execute_result"
    }
   ],
   "source": [
    "### Vanila Viterbi\n",
    "vanilla_tagged_seq = Viterbi(subset_test_tagged_words)\n",
    "# accuracy\n",
    "check = [i for i, j in zip(vanilla_tagged_seq, test_sent_words) if i == j]\n",
    "vanilla_viterbi_accuracy = len(check)/len(vanilla_tagged_seq)\n",
    "vanilla_viterbi_accuracy"
   ]
  },
  {
   "cell_type": "markdown",
   "metadata": {},
   "source": [
    "### Laplase Smothing Viterbi"
   ]
  },
  {
   "cell_type": "code",
   "execution_count": 51,
   "metadata": {},
   "outputs": [
    {
     "name": "stderr",
     "output_type": "stream",
     "text": [
      " [Elapsed Time: 0:00:53] |##################################| (Time:  0:00:53) \n"
     ]
    },
    {
     "data": {
      "text/plain": [
       "0.861878453038674"
      ]
     },
     "execution_count": 51,
     "metadata": {},
     "output_type": "execute_result"
    }
   ],
   "source": [
    "laplase_tagged_seq = Modified_Laplace_Viterbi(subset_test_tagged_words)\n",
    "# accuracy\n",
    "check = [i for i, j in zip(laplase_tagged_seq, test_sent_words) if i == j]\n",
    "modified_Laplace_Viterbi_accuracy = len(check)/len(laplase_tagged_seq)\n",
    "modified_Laplace_Viterbi_accuracy"
   ]
  },
  {
   "cell_type": "markdown",
   "metadata": {},
   "source": [
    "### Viterbi and Trigram_tagger"
   ]
  },
  {
   "cell_type": "code",
   "execution_count": 52,
   "metadata": {},
   "outputs": [
    {
     "name": "stderr",
     "output_type": "stream",
     "text": [
      " [Elapsed Time: 0:00:35] |##################################| (Time:  0:00:35) \n"
     ]
    },
    {
     "data": {
      "text/plain": [
       "0.9281767955801105"
      ]
     },
     "execution_count": 52,
     "metadata": {},
     "output_type": "execute_result"
    }
   ],
   "source": [
    "viterbi_trigram_tagged_seq = Viterbi_modification_trigram_tagger(subset_test_tagged_words)\n",
    "# accuracy\n",
    "check = [i for i, j in zip(viterbi_trigram_tagged_seq, test_sent_words) if i == j]\n",
    "viterbi_modification_trigram_tagger_accuracy = len(check)/len(viterbi_trigram_tagged_seq)\n",
    "viterbi_modification_trigram_tagger_accuracy"
   ]
  },
  {
   "cell_type": "code",
   "execution_count": 53,
   "metadata": {},
   "outputs": [
    {
     "data": {
      "text/plain": [
       "<AxesSubplot:xlabel='0'>"
      ]
     },
     "execution_count": 53,
     "metadata": {},
     "output_type": "execute_result"
    },
    {
     "data": {
      "image/png": "[encoded data removed]",
      "text/plain": [
       "<Figure size 432x288 with 1 Axes>"
      ]
     },
     "metadata": {
      "needs_background": "light"
     },
     "output_type": "display_data"
    }
   ],
   "source": [
    "# Let's compare the accuracy\n",
    "accuracy_metrics = {\n",
    "    'Vanilla Viterbi': vanilla_viterbi_accuracy * 100, \n",
    "    'Laplase Smothing Viterbi': modified_Laplace_Viterbi_accuracy * 100,\n",
    "    'Viterbi and Trigram_tagger': viterbi_modification_trigram_tagger_accuracy * 100\n",
    "}\n",
    "accuracy_metrics\n",
    "accuracy_df = pd.DataFrame(accuracy_metrics.items())\n",
    "accuracy_df.set_index(0, inplace = True)\n",
    "accuracy_df.plot.line(rot = 90, legend = False)"
   ]
  },
  {
   "cell_type": "markdown",
   "metadata": {},
   "source": [
    "### List down cases which were incorrectly tagged by original POS tagger and got corrected by your modifications"
   ]
  },
  {
   "cell_type": "markdown",
   "metadata": {},
   "source": [
    "Since we are getting best accuracy with Viterbi backed by trigram tagger. Therefore we will use Viterbi backed by trigram tagger to compare the accuracy to that of Vanilla Viterbi."
   ]
  },
  {
   "cell_type": "code",
   "execution_count": 54,
   "metadata": {},
   "outputs": [
    {
     "data": {
      "text/plain": [
       "(181, 2)"
      ]
     },
     "execution_count": 54,
     "metadata": {},
     "output_type": "execute_result"
    }
   ],
   "source": [
    "df_vanilla = pd.DataFrame(vanilla_tagged_seq, columns=['words', 'Vanilla POS tag'])\n",
    "df_vanilla.shape"
   ]
  },
  {
   "cell_type": "code",
   "execution_count": 55,
   "metadata": {},
   "outputs": [
    {
     "data": {
      "text/plain": [
       "(181, 2)"
      ]
     },
     "execution_count": 55,
     "metadata": {},
     "output_type": "execute_result"
    }
   ],
   "source": [
    "df_viterbi_trigram = pd.DataFrame(viterbi_trigram_tagged_seq, columns=['words', 'viterbi_trigram POS tag'])\n",
    "df_viterbi_trigram.shape"
   ]
  },
  {
   "cell_type": "code",
   "execution_count": 56,
   "metadata": {},
   "outputs": [
    {
     "data": {
      "text/plain": [
       "(181, 2)"
      ]
     },
     "execution_count": 56,
     "metadata": {},
     "output_type": "execute_result"
    }
   ],
   "source": [
    "df_nltk = pd.DataFrame(test_sent_words, columns=['words', 'NLTK POS tag'])\n",
    "df_nltk.shape"
   ]
  },
  {
   "cell_type": "code",
   "execution_count": 57,
   "metadata": {},
   "outputs": [
    {
     "data": {
      "text/html": [
       "<div>\n",
       "<style scoped>\n",
       "    .dataframe tbody tr th:only-of-type {\n",
       "        vertical-align: middle;\n",
       "    }\n",
       "\n",
       "    .dataframe tbody tr th {\n",
       "        vertical-align: top;\n",
       "    }\n",
       "\n",
       "    .dataframe thead th {\n",
       "        text-align: right;\n",
       "    }\n",
       "</style>\n",
       "<table border=\"1\" class=\"dataframe\">\n",
       "  <thead>\n",
       "    <tr style=\"text-align: right;\">\n",
       "      <th></th>\n",
       "      <th>words</th>\n",
       "      <th>Vanilla POS tag</th>\n",
       "      <th>viterbi_trigram POS tag</th>\n",
       "    </tr>\n",
       "  </thead>\n",
       "  <tbody>\n",
       "    <tr>\n",
       "      <th>0</th>\n",
       "      <td>Android</td>\n",
       "      <td>CONJ</td>\n",
       "      <td>NOUN</td>\n",
       "    </tr>\n",
       "    <tr>\n",
       "      <th>2</th>\n",
       "      <td>is</td>\n",
       "      <td>VERB</td>\n",
       "      <td>VERB</td>\n",
       "    </tr>\n",
       "    <tr>\n",
       "      <th>6</th>\n",
       "      <td>a</td>\n",
       "      <td>DET</td>\n",
       "      <td>DET</td>\n",
       "    </tr>\n",
       "    <tr>\n",
       "      <th>10</th>\n",
       "      <td>mobile</td>\n",
       "      <td>ADJ</td>\n",
       "      <td>ADJ</td>\n",
       "    </tr>\n",
       "    <tr>\n",
       "      <th>11</th>\n",
       "      <td>operating</td>\n",
       "      <td>NOUN</td>\n",
       "      <td>NOUN</td>\n",
       "    </tr>\n",
       "  </tbody>\n",
       "</table>\n",
       "</div>"
      ],
      "text/plain": [
       "        words Vanilla POS tag viterbi_trigram POS tag\n",
       "0     Android            CONJ                    NOUN\n",
       "2          is            VERB                    VERB\n",
       "6           a             DET                     DET\n",
       "10     mobile             ADJ                     ADJ\n",
       "11  operating            NOUN                    NOUN"
      ]
     },
     "execution_count": 57,
     "metadata": {},
     "output_type": "execute_result"
    }
   ],
   "source": [
    "merged_df = pd.merge(df_vanilla, df_viterbi_trigram, on='words', how= 'left')\n",
    "merged_df = merged_df.drop_duplicates()\n",
    "merged_df.head()"
   ]
  },
  {
   "cell_type": "code",
   "execution_count": 58,
   "metadata": {},
   "outputs": [
    {
     "data": {
      "text/html": [
       "<div>\n",
       "<style scoped>\n",
       "    .dataframe tbody tr th:only-of-type {\n",
       "        vertical-align: middle;\n",
       "    }\n",
       "\n",
       "    .dataframe tbody tr th {\n",
       "        vertical-align: top;\n",
       "    }\n",
       "\n",
       "    .dataframe thead th {\n",
       "        text-align: right;\n",
       "    }\n",
       "</style>\n",
       "<table border=\"1\" class=\"dataframe\">\n",
       "  <thead>\n",
       "    <tr style=\"text-align: right;\">\n",
       "      <th></th>\n",
       "      <th>words</th>\n",
       "      <th>Vanilla POS tag</th>\n",
       "      <th>viterbi_trigram POS tag</th>\n",
       "      <th>NLTK POS tag</th>\n",
       "    </tr>\n",
       "  </thead>\n",
       "  <tbody>\n",
       "    <tr>\n",
       "      <th>0</th>\n",
       "      <td>Android</td>\n",
       "      <td>CONJ</td>\n",
       "      <td>NOUN</td>\n",
       "      <td>NOUN</td>\n",
       "    </tr>\n",
       "    <tr>\n",
       "      <th>2</th>\n",
       "      <td>is</td>\n",
       "      <td>VERB</td>\n",
       "      <td>VERB</td>\n",
       "      <td>VERB</td>\n",
       "    </tr>\n",
       "    <tr>\n",
       "      <th>6</th>\n",
       "      <td>a</td>\n",
       "      <td>DET</td>\n",
       "      <td>DET</td>\n",
       "      <td>DET</td>\n",
       "    </tr>\n",
       "    <tr>\n",
       "      <th>10</th>\n",
       "      <td>mobile</td>\n",
       "      <td>ADJ</td>\n",
       "      <td>ADJ</td>\n",
       "      <td>ADJ</td>\n",
       "    </tr>\n",
       "    <tr>\n",
       "      <th>11</th>\n",
       "      <td>operating</td>\n",
       "      <td>NOUN</td>\n",
       "      <td>NOUN</td>\n",
       "      <td>NOUN</td>\n",
       "    </tr>\n",
       "  </tbody>\n",
       "</table>\n",
       "</div>"
      ],
      "text/plain": [
       "        words Vanilla POS tag viterbi_trigram POS tag NLTK POS tag\n",
       "0     Android            CONJ                    NOUN         NOUN\n",
       "2          is            VERB                    VERB         VERB\n",
       "6           a             DET                     DET          DET\n",
       "10     mobile             ADJ                     ADJ          ADJ\n",
       "11  operating            NOUN                    NOUN         NOUN"
      ]
     },
     "execution_count": 58,
     "metadata": {},
     "output_type": "execute_result"
    }
   ],
   "source": [
    "merged_labelled_df = pd.merge(merged_df, df_nltk, on='words', how= 'left')\n",
    "merged_labelled_df = merged_labelled_df.drop_duplicates()\n",
    "merged_labelled_df.head()"
   ]
  },
  {
   "cell_type": "code",
   "execution_count": 59,
   "metadata": {},
   "outputs": [
    {
     "data": {
      "text/html": [
       "<div>\n",
       "<style scoped>\n",
       "    .dataframe tbody tr th:only-of-type {\n",
       "        vertical-align: middle;\n",
       "    }\n",
       "\n",
       "    .dataframe tbody tr th {\n",
       "        vertical-align: top;\n",
       "    }\n",
       "\n",
       "    .dataframe thead th {\n",
       "        text-align: right;\n",
       "    }\n",
       "</style>\n",
       "<table border=\"1\" class=\"dataframe\">\n",
       "  <thead>\n",
       "    <tr style=\"text-align: right;\">\n",
       "      <th></th>\n",
       "      <th>words</th>\n",
       "      <th>Vanilla POS tag</th>\n",
       "      <th>viterbi_trigram POS tag</th>\n",
       "      <th>NLTK POS tag</th>\n",
       "    </tr>\n",
       "  </thead>\n",
       "  <tbody>\n",
       "    <tr>\n",
       "      <th>0</th>\n",
       "      <td>Android</td>\n",
       "      <td>CONJ</td>\n",
       "      <td>NOUN</td>\n",
       "      <td>NOUN</td>\n",
       "    </tr>\n",
       "    <tr>\n",
       "      <th>15</th>\n",
       "      <td>Google</td>\n",
       "      <td>CONJ</td>\n",
       "      <td>NOUN</td>\n",
       "      <td>NOUN</td>\n",
       "    </tr>\n",
       "    <tr>\n",
       "      <th>42</th>\n",
       "      <td>OS</td>\n",
       "      <td>CONJ</td>\n",
       "      <td>NOUN</td>\n",
       "      <td>NOUN</td>\n",
       "    </tr>\n",
       "    <tr>\n",
       "      <th>43</th>\n",
       "      <td>worldwide</td>\n",
       "      <td>CONJ</td>\n",
       "      <td>NOUN</td>\n",
       "      <td>NOUN</td>\n",
       "    </tr>\n",
       "    <tr>\n",
       "      <th>47</th>\n",
       "      <td>smartphones</td>\n",
       "      <td>CONJ</td>\n",
       "      <td>VERB</td>\n",
       "      <td>NOUN</td>\n",
       "    </tr>\n",
       "    <tr>\n",
       "      <th>50</th>\n",
       "      <td>2011</td>\n",
       "      <td>CONJ</td>\n",
       "      <td>NUM</td>\n",
       "      <td>NUM</td>\n",
       "    </tr>\n",
       "    <tr>\n",
       "      <th>59</th>\n",
       "      <td>2013</td>\n",
       "      <td>CONJ</td>\n",
       "      <td>NUM</td>\n",
       "      <td>NUM</td>\n",
       "    </tr>\n",
       "    <tr>\n",
       "      <th>60</th>\n",
       "      <td>Twitter</td>\n",
       "      <td>CONJ</td>\n",
       "      <td>NOUN</td>\n",
       "      <td>NOUN</td>\n",
       "    </tr>\n",
       "    <tr>\n",
       "      <th>70</th>\n",
       "      <td>2015</td>\n",
       "      <td>CONJ</td>\n",
       "      <td>NUM</td>\n",
       "      <td>NUM</td>\n",
       "    </tr>\n",
       "    <tr>\n",
       "      <th>71</th>\n",
       "      <td>that</td>\n",
       "      <td>DET</td>\n",
       "      <td>ADP</td>\n",
       "      <td>DET</td>\n",
       "    </tr>\n",
       "    <tr>\n",
       "      <th>72</th>\n",
       "      <td>that</td>\n",
       "      <td>DET</td>\n",
       "      <td>ADP</td>\n",
       "      <td>ADP</td>\n",
       "    </tr>\n",
       "    <tr>\n",
       "      <th>81</th>\n",
       "      <td>'s</td>\n",
       "      <td>VERB</td>\n",
       "      <td>PRT</td>\n",
       "      <td>PRT</td>\n",
       "    </tr>\n",
       "    <tr>\n",
       "      <th>82</th>\n",
       "      <td>firehose</td>\n",
       "      <td>CONJ</td>\n",
       "      <td>NOUN</td>\n",
       "      <td>NOUN</td>\n",
       "    </tr>\n",
       "    <tr>\n",
       "      <th>85</th>\n",
       "      <td>online</td>\n",
       "      <td>CONJ</td>\n",
       "      <td>NOUN</td>\n",
       "      <td>ADJ</td>\n",
       "    </tr>\n",
       "    <tr>\n",
       "      <th>95</th>\n",
       "      <td>interact</td>\n",
       "      <td>CONJ</td>\n",
       "      <td>NOUN</td>\n",
       "      <td>NOUN</td>\n",
       "    </tr>\n",
       "    <tr>\n",
       "      <th>97</th>\n",
       "      <td>messages</td>\n",
       "      <td>CONJ</td>\n",
       "      <td>VERB</td>\n",
       "      <td>NOUN</td>\n",
       "    </tr>\n",
       "    <tr>\n",
       "      <th>100</th>\n",
       "      <td>tweets</td>\n",
       "      <td>CONJ</td>\n",
       "      <td>NOUN</td>\n",
       "      <td>NOUN</td>\n",
       "    </tr>\n",
       "    <tr>\n",
       "      <th>109</th>\n",
       "      <td>domineering</td>\n",
       "      <td>CONJ</td>\n",
       "      <td>VERB</td>\n",
       "      <td>ADJ</td>\n",
       "    </tr>\n",
       "    <tr>\n",
       "      <th>112</th>\n",
       "      <td>personality</td>\n",
       "      <td>CONJ</td>\n",
       "      <td>NOUN</td>\n",
       "      <td>NOUN</td>\n",
       "    </tr>\n",
       "    <tr>\n",
       "      <th>114</th>\n",
       "      <td>2018</td>\n",
       "      <td>CONJ</td>\n",
       "      <td>NUM</td>\n",
       "      <td>NUM</td>\n",
       "    </tr>\n",
       "    <tr>\n",
       "      <th>115</th>\n",
       "      <td>FIFA</td>\n",
       "      <td>CONJ</td>\n",
       "      <td>NOUN</td>\n",
       "      <td>NOUN</td>\n",
       "    </tr>\n",
       "    <tr>\n",
       "      <th>120</th>\n",
       "      <td>Cup</td>\n",
       "      <td>CONJ</td>\n",
       "      <td>NOUN</td>\n",
       "      <td>NOUN</td>\n",
       "    </tr>\n",
       "    <tr>\n",
       "      <th>123</th>\n",
       "      <td>21st</td>\n",
       "      <td>CONJ</td>\n",
       "      <td>NUM</td>\n",
       "      <td>NUM</td>\n",
       "    </tr>\n",
       "    <tr>\n",
       "      <th>126</th>\n",
       "      <td>tournament</td>\n",
       "      <td>CONJ</td>\n",
       "      <td>NOUN</td>\n",
       "      <td>NOUN</td>\n",
       "    </tr>\n",
       "    <tr>\n",
       "      <th>127</th>\n",
       "      <td>contested</td>\n",
       "      <td>CONJ</td>\n",
       "      <td>VERB</td>\n",
       "      <td>VERB</td>\n",
       "    </tr>\n",
       "    <tr>\n",
       "      <th>151</th>\n",
       "      <td>trips</td>\n",
       "      <td>CONJ</td>\n",
       "      <td>NOUN</td>\n",
       "      <td>NOUN</td>\n",
       "    </tr>\n",
       "    <tr>\n",
       "      <th>173</th>\n",
       "      <td>arriving</td>\n",
       "      <td>CONJ</td>\n",
       "      <td>VERB</td>\n",
       "      <td>NOUN</td>\n",
       "    </tr>\n",
       "    <tr>\n",
       "      <th>176</th>\n",
       "      <td>NASA</td>\n",
       "      <td>CONJ</td>\n",
       "      <td>NOUN</td>\n",
       "      <td>NOUN</td>\n",
       "    </tr>\n",
       "    <tr>\n",
       "      <th>177</th>\n",
       "      <td>invited</td>\n",
       "      <td>CONJ</td>\n",
       "      <td>VERB</td>\n",
       "      <td>VERB</td>\n",
       "    </tr>\n",
       "    <tr>\n",
       "      <th>181</th>\n",
       "      <td>ICESAT-2</td>\n",
       "      <td>CONJ</td>\n",
       "      <td>NOUN</td>\n",
       "      <td>NOUN</td>\n",
       "    </tr>\n",
       "    <tr>\n",
       "      <th>182</th>\n",
       "      <td>Satellite</td>\n",
       "      <td>CONJ</td>\n",
       "      <td>NOUN</td>\n",
       "      <td>NOUN</td>\n",
       "    </tr>\n",
       "  </tbody>\n",
       "</table>\n",
       "</div>"
      ],
      "text/plain": [
       "           words Vanilla POS tag viterbi_trigram POS tag NLTK POS tag\n",
       "0        Android            CONJ                    NOUN         NOUN\n",
       "15        Google            CONJ                    NOUN         NOUN\n",
       "42            OS            CONJ                    NOUN         NOUN\n",
       "43     worldwide            CONJ                    NOUN         NOUN\n",
       "47   smartphones            CONJ                    VERB         NOUN\n",
       "50          2011            CONJ                     NUM          NUM\n",
       "59          2013            CONJ                     NUM          NUM\n",
       "60       Twitter            CONJ                    NOUN         NOUN\n",
       "70          2015            CONJ                     NUM          NUM\n",
       "71          that             DET                     ADP          DET\n",
       "72          that             DET                     ADP          ADP\n",
       "81            's            VERB                     PRT          PRT\n",
       "82      firehose            CONJ                    NOUN         NOUN\n",
       "85        online            CONJ                    NOUN          ADJ\n",
       "95      interact            CONJ                    NOUN         NOUN\n",
       "97      messages            CONJ                    VERB         NOUN\n",
       "100       tweets            CONJ                    NOUN         NOUN\n",
       "109  domineering            CONJ                    VERB          ADJ\n",
       "112  personality            CONJ                    NOUN         NOUN\n",
       "114         2018            CONJ                     NUM          NUM\n",
       "115         FIFA            CONJ                    NOUN         NOUN\n",
       "120          Cup            CONJ                    NOUN         NOUN\n",
       "123         21st            CONJ                     NUM          NUM\n",
       "126   tournament            CONJ                    NOUN         NOUN\n",
       "127    contested            CONJ                    VERB         VERB\n",
       "151        trips            CONJ                    NOUN         NOUN\n",
       "173     arriving            CONJ                    VERB         NOUN\n",
       "176         NASA            CONJ                    NOUN         NOUN\n",
       "177      invited            CONJ                    VERB         VERB\n",
       "181     ICESAT-2            CONJ                    NOUN         NOUN\n",
       "182    Satellite            CONJ                    NOUN         NOUN"
      ]
     },
     "execution_count": 59,
     "metadata": {},
     "output_type": "execute_result"
    }
   ],
   "source": [
    "merged_df_wrong_taggged = merged_labelled_df[merged_labelled_df['Vanilla POS tag'] != merged_labelled_df[\n",
    "    'viterbi_trigram POS tag']]\n",
    "merged_df_wrong_taggged"
   ]
  },
  {
   "cell_type": "markdown",
   "metadata": {},
   "source": [
    "`Inference: ` There are 30 unique words as given below:\n",
    "'Android', 'Google', 'OS', 'worldwide', 'smartphones', '2011',\n",
    "       '2013', 'Twitter', '2015', 'firehose', 'online', 'interact',\n",
    "       'messages', 'known', 'tweets', 'domineering', 'personality',\n",
    "       '2018', 'FIFA', 'Cup', '21st', 'tournament', 'contested', '11th',\n",
    "       'trips', 'arriving', 'NASA', 'invited', 'ICESAT-2' and 'Satellite' which were not tagged properly. But were tagged properly with modified version of vanilla viterbi."
   ]
  },
  {
   "cell_type": "code",
   "execution_count": 60,
   "metadata": {},
   "outputs": [
    {
     "data": {
      "text/plain": [
       "30"
      ]
     },
     "execution_count": 60,
     "metadata": {},
     "output_type": "execute_result"
    }
   ],
   "source": [
    "merged_df_wrong_taggged['words'].nunique()"
   ]
  },
  {
   "cell_type": "markdown",
   "metadata": {},
   "source": [
    "`Inference: ` There are 30 words in that were differently tagged with Viterbi and trigram combination }as compared to Vanilla Tagger."
   ]
  },
  {
   "cell_type": "code",
   "execution_count": 61,
   "metadata": {},
   "outputs": [
    {
     "data": {
      "text/html": [
       "<div>\n",
       "<style scoped>\n",
       "    .dataframe tbody tr th:only-of-type {\n",
       "        vertical-align: middle;\n",
       "    }\n",
       "\n",
       "    .dataframe tbody tr th {\n",
       "        vertical-align: top;\n",
       "    }\n",
       "\n",
       "    .dataframe thead th {\n",
       "        text-align: right;\n",
       "    }\n",
       "</style>\n",
       "<table border=\"1\" class=\"dataframe\">\n",
       "  <thead>\n",
       "    <tr style=\"text-align: right;\">\n",
       "      <th></th>\n",
       "      <th>words</th>\n",
       "      <th>Vanilla POS tag</th>\n",
       "      <th>viterbi_trigram POS tag</th>\n",
       "      <th>NLTK POS tag</th>\n",
       "    </tr>\n",
       "  </thead>\n",
       "  <tbody>\n",
       "    <tr>\n",
       "      <th>47</th>\n",
       "      <td>smartphones</td>\n",
       "      <td>CONJ</td>\n",
       "      <td>VERB</td>\n",
       "      <td>NOUN</td>\n",
       "    </tr>\n",
       "    <tr>\n",
       "      <th>71</th>\n",
       "      <td>that</td>\n",
       "      <td>DET</td>\n",
       "      <td>ADP</td>\n",
       "      <td>DET</td>\n",
       "    </tr>\n",
       "    <tr>\n",
       "      <th>85</th>\n",
       "      <td>online</td>\n",
       "      <td>CONJ</td>\n",
       "      <td>NOUN</td>\n",
       "      <td>ADJ</td>\n",
       "    </tr>\n",
       "    <tr>\n",
       "      <th>97</th>\n",
       "      <td>messages</td>\n",
       "      <td>CONJ</td>\n",
       "      <td>VERB</td>\n",
       "      <td>NOUN</td>\n",
       "    </tr>\n",
       "    <tr>\n",
       "      <th>109</th>\n",
       "      <td>domineering</td>\n",
       "      <td>CONJ</td>\n",
       "      <td>VERB</td>\n",
       "      <td>ADJ</td>\n",
       "    </tr>\n",
       "    <tr>\n",
       "      <th>173</th>\n",
       "      <td>arriving</td>\n",
       "      <td>CONJ</td>\n",
       "      <td>VERB</td>\n",
       "      <td>NOUN</td>\n",
       "    </tr>\n",
       "  </tbody>\n",
       "</table>\n",
       "</div>"
      ],
      "text/plain": [
       "           words Vanilla POS tag viterbi_trigram POS tag NLTK POS tag\n",
       "47   smartphones            CONJ                    VERB         NOUN\n",
       "71          that             DET                     ADP          DET\n",
       "85        online            CONJ                    NOUN          ADJ\n",
       "97      messages            CONJ                    VERB         NOUN\n",
       "109  domineering            CONJ                    VERB          ADJ\n",
       "173     arriving            CONJ                    VERB         NOUN"
      ]
     },
     "execution_count": 61,
     "metadata": {},
     "output_type": "execute_result"
    }
   ],
   "source": [
    "merged_df_wrong_taggged[merged_df_wrong_taggged['NLTK POS tag'] != merged_df_wrong_taggged['viterbi_trigram POS tag']]"
   ]
  },
  {
   "cell_type": "markdown",
   "metadata": {},
   "source": [
    "`Inference: ` Considering NLTK POS tagger as the source of truth, there are 5\n",
    "words which are not tagged properly even with Viterbi with trigram backoff with rule based tagger. Let's omit these words out from the analysis."
   ]
  },
  {
   "cell_type": "code",
   "execution_count": 62,
   "metadata": {},
   "outputs": [
    {
     "data": {
      "text/html": [
       "<div>\n",
       "<style scoped>\n",
       "    .dataframe tbody tr th:only-of-type {\n",
       "        vertical-align: middle;\n",
       "    }\n",
       "\n",
       "    .dataframe tbody tr th {\n",
       "        vertical-align: top;\n",
       "    }\n",
       "\n",
       "    .dataframe thead th {\n",
       "        text-align: right;\n",
       "    }\n",
       "</style>\n",
       "<table border=\"1\" class=\"dataframe\">\n",
       "  <thead>\n",
       "    <tr style=\"text-align: right;\">\n",
       "      <th></th>\n",
       "      <th>words</th>\n",
       "      <th>Vanilla POS tag</th>\n",
       "      <th>viterbi_trigram POS tag</th>\n",
       "      <th>NLTK POS tag</th>\n",
       "    </tr>\n",
       "  </thead>\n",
       "  <tbody>\n",
       "    <tr>\n",
       "      <th>0</th>\n",
       "      <td>Android</td>\n",
       "      <td>CONJ</td>\n",
       "      <td>NOUN</td>\n",
       "      <td>NOUN</td>\n",
       "    </tr>\n",
       "    <tr>\n",
       "      <th>15</th>\n",
       "      <td>Google</td>\n",
       "      <td>CONJ</td>\n",
       "      <td>NOUN</td>\n",
       "      <td>NOUN</td>\n",
       "    </tr>\n",
       "    <tr>\n",
       "      <th>42</th>\n",
       "      <td>OS</td>\n",
       "      <td>CONJ</td>\n",
       "      <td>NOUN</td>\n",
       "      <td>NOUN</td>\n",
       "    </tr>\n",
       "    <tr>\n",
       "      <th>43</th>\n",
       "      <td>worldwide</td>\n",
       "      <td>CONJ</td>\n",
       "      <td>NOUN</td>\n",
       "      <td>NOUN</td>\n",
       "    </tr>\n",
       "    <tr>\n",
       "      <th>50</th>\n",
       "      <td>2011</td>\n",
       "      <td>CONJ</td>\n",
       "      <td>NUM</td>\n",
       "      <td>NUM</td>\n",
       "    </tr>\n",
       "    <tr>\n",
       "      <th>59</th>\n",
       "      <td>2013</td>\n",
       "      <td>CONJ</td>\n",
       "      <td>NUM</td>\n",
       "      <td>NUM</td>\n",
       "    </tr>\n",
       "    <tr>\n",
       "      <th>60</th>\n",
       "      <td>Twitter</td>\n",
       "      <td>CONJ</td>\n",
       "      <td>NOUN</td>\n",
       "      <td>NOUN</td>\n",
       "    </tr>\n",
       "    <tr>\n",
       "      <th>70</th>\n",
       "      <td>2015</td>\n",
       "      <td>CONJ</td>\n",
       "      <td>NUM</td>\n",
       "      <td>NUM</td>\n",
       "    </tr>\n",
       "    <tr>\n",
       "      <th>72</th>\n",
       "      <td>that</td>\n",
       "      <td>DET</td>\n",
       "      <td>ADP</td>\n",
       "      <td>ADP</td>\n",
       "    </tr>\n",
       "    <tr>\n",
       "      <th>81</th>\n",
       "      <td>'s</td>\n",
       "      <td>VERB</td>\n",
       "      <td>PRT</td>\n",
       "      <td>PRT</td>\n",
       "    </tr>\n",
       "    <tr>\n",
       "      <th>82</th>\n",
       "      <td>firehose</td>\n",
       "      <td>CONJ</td>\n",
       "      <td>NOUN</td>\n",
       "      <td>NOUN</td>\n",
       "    </tr>\n",
       "    <tr>\n",
       "      <th>95</th>\n",
       "      <td>interact</td>\n",
       "      <td>CONJ</td>\n",
       "      <td>NOUN</td>\n",
       "      <td>NOUN</td>\n",
       "    </tr>\n",
       "    <tr>\n",
       "      <th>100</th>\n",
       "      <td>tweets</td>\n",
       "      <td>CONJ</td>\n",
       "      <td>NOUN</td>\n",
       "      <td>NOUN</td>\n",
       "    </tr>\n",
       "    <tr>\n",
       "      <th>112</th>\n",
       "      <td>personality</td>\n",
       "      <td>CONJ</td>\n",
       "      <td>NOUN</td>\n",
       "      <td>NOUN</td>\n",
       "    </tr>\n",
       "    <tr>\n",
       "      <th>114</th>\n",
       "      <td>2018</td>\n",
       "      <td>CONJ</td>\n",
       "      <td>NUM</td>\n",
       "      <td>NUM</td>\n",
       "    </tr>\n",
       "    <tr>\n",
       "      <th>115</th>\n",
       "      <td>FIFA</td>\n",
       "      <td>CONJ</td>\n",
       "      <td>NOUN</td>\n",
       "      <td>NOUN</td>\n",
       "    </tr>\n",
       "    <tr>\n",
       "      <th>120</th>\n",
       "      <td>Cup</td>\n",
       "      <td>CONJ</td>\n",
       "      <td>NOUN</td>\n",
       "      <td>NOUN</td>\n",
       "    </tr>\n",
       "    <tr>\n",
       "      <th>123</th>\n",
       "      <td>21st</td>\n",
       "      <td>CONJ</td>\n",
       "      <td>NUM</td>\n",
       "      <td>NUM</td>\n",
       "    </tr>\n",
       "    <tr>\n",
       "      <th>126</th>\n",
       "      <td>tournament</td>\n",
       "      <td>CONJ</td>\n",
       "      <td>NOUN</td>\n",
       "      <td>NOUN</td>\n",
       "    </tr>\n",
       "    <tr>\n",
       "      <th>127</th>\n",
       "      <td>contested</td>\n",
       "      <td>CONJ</td>\n",
       "      <td>VERB</td>\n",
       "      <td>VERB</td>\n",
       "    </tr>\n",
       "    <tr>\n",
       "      <th>151</th>\n",
       "      <td>trips</td>\n",
       "      <td>CONJ</td>\n",
       "      <td>NOUN</td>\n",
       "      <td>NOUN</td>\n",
       "    </tr>\n",
       "    <tr>\n",
       "      <th>176</th>\n",
       "      <td>NASA</td>\n",
       "      <td>CONJ</td>\n",
       "      <td>NOUN</td>\n",
       "      <td>NOUN</td>\n",
       "    </tr>\n",
       "    <tr>\n",
       "      <th>177</th>\n",
       "      <td>invited</td>\n",
       "      <td>CONJ</td>\n",
       "      <td>VERB</td>\n",
       "      <td>VERB</td>\n",
       "    </tr>\n",
       "    <tr>\n",
       "      <th>181</th>\n",
       "      <td>ICESAT-2</td>\n",
       "      <td>CONJ</td>\n",
       "      <td>NOUN</td>\n",
       "      <td>NOUN</td>\n",
       "    </tr>\n",
       "    <tr>\n",
       "      <th>182</th>\n",
       "      <td>Satellite</td>\n",
       "      <td>CONJ</td>\n",
       "      <td>NOUN</td>\n",
       "      <td>NOUN</td>\n",
       "    </tr>\n",
       "  </tbody>\n",
       "</table>\n",
       "</div>"
      ],
      "text/plain": [
       "           words Vanilla POS tag viterbi_trigram POS tag NLTK POS tag\n",
       "0        Android            CONJ                    NOUN         NOUN\n",
       "15        Google            CONJ                    NOUN         NOUN\n",
       "42            OS            CONJ                    NOUN         NOUN\n",
       "43     worldwide            CONJ                    NOUN         NOUN\n",
       "50          2011            CONJ                     NUM          NUM\n",
       "59          2013            CONJ                     NUM          NUM\n",
       "60       Twitter            CONJ                    NOUN         NOUN\n",
       "70          2015            CONJ                     NUM          NUM\n",
       "72          that             DET                     ADP          ADP\n",
       "81            's            VERB                     PRT          PRT\n",
       "82      firehose            CONJ                    NOUN         NOUN\n",
       "95      interact            CONJ                    NOUN         NOUN\n",
       "100       tweets            CONJ                    NOUN         NOUN\n",
       "112  personality            CONJ                    NOUN         NOUN\n",
       "114         2018            CONJ                     NUM          NUM\n",
       "115         FIFA            CONJ                    NOUN         NOUN\n",
       "120          Cup            CONJ                    NOUN         NOUN\n",
       "123         21st            CONJ                     NUM          NUM\n",
       "126   tournament            CONJ                    NOUN         NOUN\n",
       "127    contested            CONJ                    VERB         VERB\n",
       "151        trips            CONJ                    NOUN         NOUN\n",
       "176         NASA            CONJ                    NOUN         NOUN\n",
       "177      invited            CONJ                    VERB         VERB\n",
       "181     ICESAT-2            CONJ                    NOUN         NOUN\n",
       "182    Satellite            CONJ                    NOUN         NOUN"
      ]
     },
     "execution_count": 62,
     "metadata": {},
     "output_type": "execute_result"
    }
   ],
   "source": [
    "analysis_df = merged_df_wrong_taggged[merged_df_wrong_taggged['NLTK POS tag'] == merged_df_wrong_taggged[\n",
    "    'viterbi_trigram POS tag']]\n",
    "analysis_df"
   ]
  },
  {
   "cell_type": "markdown",
   "metadata": {},
   "source": [
    "`Inference: ` There are 25 words that are tagged incorrectly with Vanila Viterbi but were tagged correctly with Viterbi and Trigram combination."
   ]
  },
  {
   "cell_type": "markdown",
   "metadata": {},
   "source": [
    "From the above table we can see following:\n",
    "1. Most of the numbers were not tagged correctly with Vanilla Viterbi. And reason is obivous, since these words doesn't appear in the the training corpus.\n",
    "2. Most of the nouns are not tagged correctly by the Vanilla Viterbi algorithm."
   ]
  },
  {
   "cell_type": "markdown",
   "metadata": {},
   "source": [
    "## Conclusion\n",
    "For the sample sentences given Viterbi with Trigram cobination works best. And is giving high accuracy of 93%. The drop in accuracy is majorly because of noun and adjactives labelled incorrectly.\n",
    "\n",
    "But when compared to Vanilla Viterbi which is giving accuray of 76% our modified version performed well."
   ]
  },
  {
   "cell_type": "code",
   "execution_count": null,
   "metadata": {},
   "outputs": [],
   "source": []
  }
 ],
 "metadata": {
  "kernelspec": {
   "display_name": "Python 3",
   "language": "python",
   "name": "python3"
  },
  "language_info": {
   "codemirror_mode": {
    "name": "ipython",
    "version": 3
   },
   "file_extension": ".py",
   "mimetype": "text/x-python",
   "name": "python",
   "nbconvert_exporter": "python",
   "pygments_lexer": "ipython3",
   "version": "3.8.8"
  }
 },
 "nbformat": 4,
 "nbformat_minor": 2
}
