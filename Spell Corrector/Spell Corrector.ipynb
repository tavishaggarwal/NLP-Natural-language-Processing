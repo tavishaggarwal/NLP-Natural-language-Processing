{
 "cells": [
  {
   "cell_type": "code",
   "execution_count": 8,
   "metadata": {},
   "outputs": [],
   "source": [
    "import re\n",
    "from collections import Counter"
   ]
  },
  {
   "cell_type": "code",
   "execution_count": 9,
   "metadata": {},
   "outputs": [],
   "source": [
    "# function to tokenise words\n",
    "def words(document):\n",
    "    \"Convert text to lower case and tokenise the document\"\n",
    "    return re.findall(r'\\w+', document.lower())"
   ]
  },
  {
   "cell_type": "code",
   "execution_count": 10,
   "metadata": {},
   "outputs": [
    {
     "data": {
      "text/plain": [
       "32198"
      ]
     },
     "execution_count": 10,
     "metadata": {},
     "output_type": "execute_result"
    }
   ],
   "source": [
    "# create a frequency table of all the words of the document\n",
    "all_words = Counter(words(open('big.txt').read()))\n",
    "len(all_words)"
   ]
  },
  {
   "cell_type": "code",
   "execution_count": 11,
   "metadata": {},
   "outputs": [
    {
     "data": {
      "text/plain": [
       "135"
      ]
     },
     "execution_count": 11,
     "metadata": {},
     "output_type": "execute_result"
    }
   ],
   "source": [
    "# check frequency of a random word, say, 'chair'\n",
    "all_words['chair']"
   ]
  },
  {
   "cell_type": "code",
   "execution_count": 12,
   "metadata": {},
   "outputs": [
    {
     "data": {
      "text/plain": [
       "[('the', 79809),\n",
       " ('of', 40024),\n",
       " ('and', 38312),\n",
       " ('to', 28765),\n",
       " ('in', 22023),\n",
       " ('a', 21124),\n",
       " ('that', 12512),\n",
       " ('he', 12401),\n",
       " ('was', 11410),\n",
       " ('it', 10681)]"
      ]
     },
     "execution_count": 12,
     "metadata": {},
     "output_type": "execute_result"
    }
   ],
   "source": [
    "# look at top 10 frequent words\n",
    "all_words.most_common(10)"
   ]
  },
  {
   "cell_type": "code",
   "execution_count": 13,
   "metadata": {},
   "outputs": [],
   "source": [
    "def edits_one(word):\n",
    "    \"Create all edits that are one edit away from `word`.\"\n",
    "    alphabets    = 'abcdefghijklmnopqrstuvwxyz'\n",
    "    splits     = [(word[:i], word[i:])                   for i in range(len(word) + 1)]\n",
    "    deletes    = [left + right[1:]                       for left, right in splits if right]\n",
    "    inserts    = [left + c + right                       for left, right in splits for c in alphabets]\n",
    "    replaces   = [left + c + right[1:]                   for left, right in splits if right for c in alphabets]\n",
    "    transposes = [left + right[1] + right[0] + right[2:] for left, right in splits if len(right)>1]\n",
    "    return set(deletes + inserts + replaces + transposes)"
   ]
  },
  {
   "cell_type": "code",
   "execution_count": 14,
   "metadata": {},
   "outputs": [],
   "source": [
    "def edits_two(word):\n",
    "    \"Create all edits that are two edits away from `word`.\"\n",
    "    return (e2 for e1 in edits_one(word) for e2 in edits_one(e1))"
   ]
  },
  {
   "cell_type": "code",
   "execution_count": 15,
   "metadata": {},
   "outputs": [],
   "source": [
    "def known(words):\n",
    "    \"The subset of `words` that appear in the `all_words`.\"\n",
    "    return set(word for word in words if word in all_words)"
   ]
  },
  {
   "cell_type": "code",
   "execution_count": 16,
   "metadata": {},
   "outputs": [],
   "source": [
    "def possible_corrections(word):\n",
    "    \"Generate possible spelling corrections for word.\"\n",
    "    return (known([word]) or known(edits_one(word)) or known(edits_two(word)) or [word])"
   ]
  },
  {
   "cell_type": "code",
   "execution_count": 17,
   "metadata": {},
   "outputs": [],
   "source": [
    "def prob(word, N=sum(all_words.values())): \n",
    "    \"Probability of `word`: Number of appearances of 'word' / total number of tokens\"\n",
    "    return all_words[word] / N"
   ]
  },
  {
   "cell_type": "code",
   "execution_count": 21,
   "metadata": {},
   "outputs": [
    {
     "name": "stdout",
     "output_type": "stream",
     "text": [
      "90902\n",
      "{'demfasize', 'emfasimze', 'ymfasize', 'emfasizx', 'eifasize', 'kemfasize', 'emfysize', 'emhasize', 'emfavsize', 'emfaskize', 'emfcsize', 'emfarsize', 'emfacsize', 'zemfasize', 'emfasizet', 'emeasize', 'emfasizxe', 'emfaslze', 'emfasizel', 'emftsize', 'emfasige', 'emfassze', 'emfasizec', 'etfasize', 'emwasize', 'emfasifze', 'emfasile', 'edmfasize', 'emfascze', 'imfasize', 'exmfasize', 'emfasyze', 'emzfasize', 'emfzasize', 'emfasije', 'emfasicze', 'cemfasize', 'emfaiize', 'emqfasize', 'egfasize', 'emfavize', 'emfasise', 'emfdasize', 'eymfasize', 'emfasizex', 'emfawize', 'emfasite', 'emfasizz', 'emfafsize', 'nemfasize', 'emfasizm', 'emfadsize', 'emfasizoe', 'emfzsize', 'emjfasize', 'emfaswze', 'emfawsize', 'emrfasize', 'qemfasize', 'emzasize', 'emfashze', 'epfasize', 'ekfasize', 'emfaszze', 'emfasizeh', 'emfashize', 'iemfasize', 'emfasizje', 'jmfasize', 'emfaskze', 'emfarize', 'emfatize', 'pemfasize', 'emfasigze', 'emfazize', 'amfasize', 'elmfasize', 'emfesize', 'emfasaze', 'emtasize', 'emfisize', 'emfalize', 'emfasyize', 'emfasife', 'emfasiz', 'emfnasize', 'eumfasize', 'evfasize', 'ekmfasize', 'eefasize', 'emfasjize', 'emfaswize', 'emfasitze', 'emfaseze', 'efmfasize', 'emfhasize', 'emfwasize', 'emfasizc', 'vemfasize', 'emfaside', 'emfasiue', 'xmfasize', 'emfasiwze', 'elfasize', 'dmfasize', 'emfafize', 'emfasinze', 'emfabize', 'emfacize', 'emfabsize', 'emfjsize', 'emfasizpe', 'emfahize', 'emfapize', 'eafasize', 'emfasizh', 'pmfasize', 'effasize', 'emfasoize', 'emfasrze', 'emfksize', 'emfasidze', 'emnasize', 'ezfasize', 'emfpasize', 'emyfasize', 'emfasipze', 'efasize', 'kmfasize', 'emfassize', 'emfasijze', 'emfasizer', 'emfasime', 'emfasizen', 'emfasizej', 'zmfasize', 'emfasizbe', 'emfasuize', 'eufasize', 'emfasizr', 'emfasizes', 'emffasize', 'emfasizn', 'rmfasize', 'uemfasize', 'emfasizs', 'emfakize', 'eofasize', 'emfasike', 'emfmsize', 'emfasqize', 'emfaeize', 'emasize', 'emfasibe', 'emfastize', 'emfasioe', 'emfasrize', 'emgfasize', 'emfamize', 'ecmfasize', 'semfasize', 'esmfasize', 'emfauize', 'emoasize', 'emfvsize', 'emfasizk', 'emfqsize', 'lmfasize', 'emfasxize', 'emfaoize', 'emfaesize', 'ejfasize', 'emfrsize', 'emfasixe', 'emfasoze', 'emfvasize', 'emuasize', 'emfgasize', 'remfasize', 'emfasiza', 'bmfasize', 'emfasized', 'emfasizhe', 'emsfasize', 'emfasiae', 'emfaize', 'emkasize', 'emcfasize', 'emhfasize', 'tmfasize', 'jemfasize', 'emfazsize', 'emfsize', 'emfasnize', 'emnfasize', 'emvasize', 'emfasizue', 'omfasize', 'emfasbze', 'emfasizeo', 'emfosize', 'emfhsize', 'emfasizfe', 'emmfasize', 'emfasize', 'ewfasize', 'hemfasize', 'emfasihze', 'eqfasize', 'emufasize', 'emfasibze', 'emfasizep', 'emfasieze', 'emfaszie', 'emfasisze', 'qmfasize', 'emfasiuze', 'wmfasize', 'ewmfasize', 'emfamsize', 'emflasize', 'emfasizie', 'emfadize', 'ezmfasize', 'emfausize', 'enfasize', 'emfagize', 'emfasaize', 'eomfasize', 'emlasize', 'emfssize', 'emfahsize', 'emfasizez', 'emfastze', 'emfasizre', 'emfasiize', 'gemfasize', 'emfatsize', 'emfasizqe', 'esfasize', 'emfagsize', 'emfasizf', 'emfaqsize', 'emfasizde', 'emfuasize', 'ebmfasize', 'fmfasize', 'smfasize', 'emfanize', 'emfmasize', 'emfasizce', 'emfasizae', 'emdasize', 'emfasfze', 'ebfasize', 'emqasize', 'emfasilze', 'emfaosize', 'emfasvze', 'emfasizeq', 'emaasize', 'emfasdize', 'emfasirze', 'erfasize', 'emsasize', 'emfasizem', 'eyfasize', 'emfasive', 'emfalsize', 'emfaqize', 'emfasfize', 'emfasine', 'emfasioze', 'emfasizew', 'emfasizd', 'emfasizye', 'emfqasize', 'emfoasize', 'emdfasize', 'emfusize', 'emfasiye', 'emfasizo', 'edfasize', 'emfasizw', 'emfasiaze', 'emfasizte', 'emfasizef', 'emfasizve', 'emcasize', 'emfapsize', 'emfnsize', 'emifasize', 'emfascize', 'emfayize', 'emfxasize', 'mfasize', 'emafsize', 'emmasize', 'emefasize', 'yemfasize', 'empasize', 'emfasgze', 'emofasize', 'emfiasize', 'emafasize', 'emfrasize', 'emfsasize', 'emfasvize', 'emfasjze', 'emfasizp', 'ejmfasize', 'umfasize', 'emfansize', 'emfasze', 'emfaslize', 'emfeasize', 'mefasize', 'wemfasize', 'emfxsize', 'emfdsize', 'emfaszize', 'emgasize', 'etmfasize', 'emfasizeb', 'emfaxsize', 'emfasire', 'emfasizge', 'nmfasize', 'emfaseize', 'emtfasize', 'emfasmize', 'emwfasize', 'emlfasize', 'emfaisize', 'emfasmze', 'emkfasize', 'emftasize', 'epmfasize', 'emfasgize', 'emfasice', 'emfasizg', 'bemfasize', 'emfasizl', 'emfasqze', 'emfasie', 'emflsize', 'emfaasize', 'emfasizse', 'ermfasize', 'emfasizee', 'empfasize', 'femfasize', 'emyasize', 'emfajsize', 'enmfasize', 'emfasizme', 'eamfasize', 'emfasizy', 'emfpsize', 'ecfasize', 'xemfasize', 'emfasizze', 'embfasize', 'emxfasize', 'emfasizq', 'ehmfasize', 'emfasivze', 'emfaisze', 'emfasizeg', 'emfasxze', 'emfbsize', 'ehfasize', 'emfasizt', 'vmfasize', 'efmasize', 'aemfasize', 'emfsaize', 'emvfasize', 'evmfasize', 'lemfasize', 'emfasizwe', 'emfasizke', 'emfasizi', 'emfyasize', 'emfasiqe', 'emfasizek', 'emfasizne', 'emfasizeu', 'emfasihe', 'mmfasize', 'emrasize', 'emfasbize', 'emfwsize', 'emfasiqze', 'emfaysize', 'emfkasize', 'emfasizey', 'emfasiee', 'emfasiez', 'emfasixze', 'oemfasize', 'emfjasize', 'hmfasize', 'emfbasize', 'emfaksize', 'gmfasize', 'emfasuze', 'emfasizv', 'eqmfasize', 'emfasizj', 'temfasize', 'memfasize', 'emfasizle', 'emfaaize', 'emffsize', 'eemfasize', 'eimfasize', 'emfasizb', 'emfaspize', 'exfasize', 'emfasiyze', 'embasize', 'emfasiwe', 'emfasnze', 'cmfasize', 'emfasipe', 'emfaxize', 'emiasize', 'emfcasize', 'emfajize', 'emjasize', 'emxasize', 'emfasizev', 'emfasizu', 'emfasikze', 'emfaspze', 'emfasizei', 'emfgsize', 'emfasiie', 'egmfasize', 'emfasizea', 'emfasdze'}\n"
     ]
    }
   ],
   "source": [
    "print(len(set(edits_two(\"emfasize\"))))\n",
    "print(edits_one(\"emfasize\"))"
   ]
  },
  {
   "cell_type": "code",
   "execution_count": null,
   "metadata": {},
   "outputs": [],
   "source": [
    "print(known(edits_one(\"monney\")))"
   ]
  },
  {
   "cell_type": "code",
   "execution_count": null,
   "metadata": {},
   "outputs": [],
   "source": [
    "# Let's look at words that are two edits away\n",
    "print(len(set(edits_two(\"monney\"))))\n",
    "print(known(edits_one(\"monney\")))"
   ]
  },
  {
   "cell_type": "code",
   "execution_count": 24,
   "metadata": {},
   "outputs": [
    {
     "name": "stdout",
     "output_type": "stream",
     "text": [
      "{'emphasize'}\n"
     ]
    }
   ],
   "source": [
    "# Let's look at possible corrections of a word\n",
    "print(possible_corrections(\"emfasize\"))"
   ]
  },
  {
   "cell_type": "code",
   "execution_count": null,
   "metadata": {},
   "outputs": [],
   "source": [
    "# Let's look at probability of a word\n",
    "print(prob(\"money\"))\n",
    "print(prob(\"monkey\"))"
   ]
  },
  {
   "cell_type": "code",
   "execution_count": null,
   "metadata": {},
   "outputs": [],
   "source": [
    "def spell_check(word):\n",
    "    \"Print the most probable spelling correction for `word` out of all the `possible_corrections`\"\n",
    "    correct_word = max(possible_corrections(word), key=prob)\n",
    "    if correct_word != word:\n",
    "        return \"Did you mean \" + correct_word + \"?\"\n",
    "    else:\n",
    "        return \"Correct spelling.\""
   ]
  },
  {
   "cell_type": "code",
   "execution_count": null,
   "metadata": {},
   "outputs": [],
   "source": [
    "# test spell check\n",
    "print(spell_check(\"monney\"))"
   ]
  }
 ],
 "metadata": {
  "kernelspec": {
   "display_name": "Python 3",
   "language": "python",
   "name": "python3"
  },
  "language_info": {
   "codemirror_mode": {
    "name": "ipython",
    "version": 3
   },
   "file_extension": ".py",
   "mimetype": "text/x-python",
   "name": "python",
   "nbconvert_exporter": "python",
   "pygments_lexer": "ipython3",
   "version": "3.6.4"
  }
 },
 "nbformat": 4,
 "nbformat_minor": 2
}
